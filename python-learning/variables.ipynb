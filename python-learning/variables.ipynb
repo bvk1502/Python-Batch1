{
 "cells": [
  {
   "cell_type": "markdown",
   "metadata": {},
   "source": [
    "## Variables"
   ]
  },
  {
   "cell_type": "code",
   "execution_count": 1,
   "metadata": {},
   "outputs": [
    {
     "name": "stdout",
     "output_type": "stream",
     "text": [
      "20 <class 'int'>\n",
      "Male/Female <class 'str'>\n"
     ]
    }
   ],
   "source": [
    "## Dynamic Data Type\n",
    "age = 20\n",
    "gender = \"Male/Female\"\n",
    "print(age, type(age))\n",
    "print(gender, type(gender))"
   ]
  },
  {
   "cell_type": "code",
   "execution_count": 2,
   "metadata": {},
   "outputs": [
    {
     "name": "stdout",
     "output_type": "stream",
     "text": [
      "20 <class 'int'>\n",
      "Male/Female <class 'str'>\n"
     ]
    }
   ],
   "source": [
    "## Strict Data Type\n",
    "age: int = 20\n",
    "gender: str = \"Male/Female\"\n",
    "print(age, type(age))\n",
    "print(gender, type(gender))"
   ]
  },
  {
   "cell_type": "markdown",
   "metadata": {},
   "source": [
    "## Naming Conventions"
   ]
  },
  {
   "cell_type": "code",
   "execution_count": null,
   "metadata": {},
   "outputs": [
    {
     "name": "stdout",
     "output_type": "stream",
     "text": [
      "10 20\n",
      "This is global variable\n",
      "db host\n"
     ]
    }
   ],
   "source": [
    "# camcase, firstName\n",
    "# _case, first_name\n",
    "age=20\n",
    "first_name = \"Basavaraj\"\n",
    "#UPPERCASE variable names only for constants\n",
    "DB_HOST = \"db host\"\n",
    "#Global Variables\n",
    "g_variable_name = \"This is global variable\"\n",
    "#How to understand parameters will be used in functions\n",
    "def my_function(p_a, p_b):\n",
    "    a=10 #block variable\n",
    "    print(p_a, p_b) #parameters\n",
    "    print(g_variable_name) #global variable\n",
    "    print(DB_HOST) #constants\n",
    "    \n",
    "my_function(10, 20)\n"
   ]
  }
 ],
 "metadata": {
  "kernelspec": {
   "display_name": "Python 3",
   "language": "python",
   "name": "python3"
  },
  "language_info": {
   "codemirror_mode": {
    "name": "ipython",
    "version": 3
   },
   "file_extension": ".py",
   "mimetype": "text/x-python",
   "name": "python",
   "nbconvert_exporter": "python",
   "pygments_lexer": "ipython3",
   "version": "3.11.11"
  }
 },
 "nbformat": 4,
 "nbformat_minor": 2
}
