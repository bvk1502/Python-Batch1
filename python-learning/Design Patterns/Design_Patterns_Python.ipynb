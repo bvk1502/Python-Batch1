{
 "cells": [
  {
   "cell_type": "markdown",
   "id": "1b5f8ad6",
   "metadata": {},
   "source": [
    "# Design Patterns in Python - Detailed Explanation and Implementation\n",
    "\n",
    "## 1. Creational Patterns\n",
    "\n"
   ]
  },
  {
   "cell_type": "markdown",
   "id": "ac20fd57",
   "metadata": {},
   "source": [
    "### Singleton\n",
    "\n",
    "Ensures a class has only one instance and provides a global point of access to it.\n",
    "Use when: You need exactly one object to coordinate actions across the system.\n",
    "\n",
    "#### Intent\n",
    "<!-- ![Alt Text](singleton.png) -->\n",
    "<img src=\"singleton.png\" alt=\"Alt Text\" width=\"600\"/>\n",
    "\n",
    "\n",
    "#### Structure\n",
    "<!-- ![Alt Text](singleton.png) -->\n",
    "<img src=\"singleton2.png\" alt=\"Alt Text\" width=\"600\"/>\n"
   ]
  },
  {
   "cell_type": "code",
   "execution_count": 2,
   "id": "bafb36e0",
   "metadata": {},
   "outputs": [
    {
     "name": "stdout",
     "output_type": "stream",
     "text": [
      "Creating new instance\n",
      "True\n"
     ]
    }
   ],
   "source": [
    "\n",
    "class Singleton:\n",
    "    _instance = None\n",
    "\n",
    "    def __new__(cls):\n",
    "        if cls._instance is None:\n",
    "            cls._instance = super(Singleton, cls).__new__(cls)\n",
    "            print(\"Creating new instance\")\n",
    "        return cls._instance\n",
    "\n",
    "# Usage\n",
    "s1 = Singleton()\n",
    "s2 = Singleton()\n",
    "print(s1 is s2)  # True"
   ]
  },
  {
   "cell_type": "markdown",
   "id": "d3950c2c",
   "metadata": {},
   "source": [
    "### Factory Method\n",
    "\n",
    "Defines an interface for creating an object, but lets subclasses alter the type of objects that will be created.\n",
    "Use when: You need flexibility in creating different instances.\n",
    "\n",
    "#### Intent\n",
    "<!-- ![Alt Text](singleton.png) -->\n",
    "<img src=\"factory1.png\" alt=\"Alt Text\" width=\"600\"/>\n",
    "\n",
    "\n",
    "\n",
    "<!-- ![Alt Text](singleton.png) -->\n",
    "<img src=\"factory2.png\" alt=\"Alt Text\" width=\"600\"/>\n",
    "\n",
    "<img src=\"factory3.png\" alt=\"Alt Text\" width=\"600\"/>\n",
    "\n",
    "\n",
    "\n",
    "#### Structure\n",
    "<img src=\"factory4.png\" alt=\"Alt Text\" width=\"600\"/>\n"
   ]
  },
  {
   "cell_type": "code",
   "execution_count": 3,
   "id": "813c83d2",
   "metadata": {},
   "outputs": [
    {
     "name": "stdout",
     "output_type": "stream",
     "text": [
      "Woof!\n"
     ]
    }
   ],
   "source": [
    "\n",
    "class Animal: #Logistic\n",
    "    def speak(self): pass #deliver\n",
    "\n",
    "class Dog(Animal): #Truck\n",
    "    def speak(self): return \"Woof!\"\n",
    "\n",
    "class Cat(Animal): #Ship\n",
    "    def speak(self): return \"Meow!\"\n",
    "\n",
    "def animal_factory(animal_type): #LogisticFactory - Type of Logistics\n",
    "    if animal_type == \"dog\":\n",
    "        return Dog() #Truck\n",
    "    elif animal_type == \"cat\":\n",
    "        return Cat()\n",
    "    else:\n",
    "        raise ValueError(\"Unknown animal type\")\n",
    "\n",
    "# Usage\n",
    "animal = animal_factory(\"dog\") #Truck\n",
    "print(animal.speak())"
   ]
  },
  {
   "cell_type": "markdown",
   "id": "4bf69a0f",
   "metadata": {},
   "source": [
    "### Abstract Factory\n",
    "\n",
    "Creates families of related or dependent objects without specifying their concrete classes.\n",
    "Use when: Systems need to be independent of how their objects are created.\n",
    "\n",
    "#### Intent\n",
    "<img src=\"abstract1.png\" alt=\"Alt Text\" width=\"600\"/>\n",
    "\n",
    "#### Structure\n",
    "<img src=\"abstract2.png\" alt=\"Alt Text\" width=\"600\"/>\n"
   ]
  },
  {
   "cell_type": "code",
   "execution_count": 4,
   "id": "4bddce96",
   "metadata": {},
   "outputs": [
    {
     "name": "stdout",
     "output_type": "stream",
     "text": [
      "Windows Button\n"
     ]
    }
   ],
   "source": [
    "\n",
    "class Button: pass\n",
    "class WindowsButton(Button):\n",
    "    def render(self): return \"Windows Button\"\n",
    "class MacButton(Button):\n",
    "    def render(self): return \"Mac Button\"\n",
    "\n",
    "class GUIFactory:\n",
    "    def create_button(self): pass\n",
    "\n",
    "class WindowsFactory(GUIFactory):\n",
    "    def create_button(self): return WindowsButton()\n",
    "\n",
    "class MacFactory(GUIFactory):\n",
    "    def create_button(self): return MacButton()\n",
    "\n",
    "# Usage\n",
    "factory = WindowsFactory()\n",
    "btn = factory.create_button()\n",
    "print(btn.render())"
   ]
  },
  {
   "cell_type": "markdown",
   "id": "1dc476e9",
   "metadata": {},
   "source": [
    "### Builder\n",
    "\n",
    "Separates the construction of a complex object from its representation.\n",
    "Use when: Complex object construction should be independent from its parts.\n",
    "\n",
    "\n",
    "#### Intent\n",
    "<img src=\"builder1.png\" alt=\"Alt Text\" width=\"600\"/>\n",
    "\n",
    "<img src=\"builder2.png\" alt=\"Alt Text\" width=\"600\"/>\n",
    "<img src=\"builder3.png\" alt=\"Alt Text\" width=\"600\"/>\n",
    "\n",
    "#### Structure\n",
    "<img src=\"builder4.png\" alt=\"Alt Text\" width=\"600\"/>"
   ]
  },
  {
   "cell_type": "code",
   "execution_count": 5,
   "id": "906cd194",
   "metadata": {},
   "outputs": [
    {
     "name": "stdout",
     "output_type": "stream",
     "text": [
      "{'walls': '4 walls', 'roof': 'Gable roof'}\n"
     ]
    }
   ],
   "source": [
    "\n",
    "class HouseBuilder:\n",
    "    def __init__(self): self.house = {}\n",
    "\n",
    "    def add_walls(self):\n",
    "        self.house['walls'] = \"4 walls\"\n",
    "        return self\n",
    "\n",
    "    def add_roof(self):\n",
    "        self.house['roof'] = \"Gable roof\"\n",
    "        return self\n",
    "\n",
    "    def build(self):\n",
    "        return self.house\n",
    "\n",
    "# Usage\n",
    "builder = HouseBuilder()\n",
    "house = builder.add_walls().add_roof().build()\n",
    "print(house)"
   ]
  },
  {
   "cell_type": "code",
   "execution_count": null,
   "id": "778039f7",
   "metadata": {},
   "outputs": [],
   "source": [
    "### Prototype\n",
    "\"\"\"\n",
    "Creates new objects by copying an existing object.\n",
    "Use when: Object creation is costly.\n",
    "\"\"\"\n",
    "import copy\n",
    "\n",
    "class Prototype:\n",
    "    def __init__(self):\n",
    "        self.value = []\n",
    "\n",
    "    def clone(self):\n",
    "        return copy.deepcopy(self)\n",
    "\n",
    "# Usage\n",
    "original = Prototype()\n",
    "original.value.append(1)\n",
    "cloned = original.clone()\n",
    "print(original.value, cloned.value)"
   ]
  },
  {
   "cell_type": "markdown",
   "id": "d4701154",
   "metadata": {},
   "source": [
    "## 2. Structural Patterns"
   ]
  },
  {
   "cell_type": "markdown",
   "id": "5d1431f9",
   "metadata": {},
   "source": [
    "### Adapter\n",
    "\n",
    "Allows incompatible interfaces to work together.\n",
    "Use when: You want to use an existing class but its interface does not match your needs.\n",
    "\n",
    "\n",
    "\n",
    "#### Intent\n",
    "<img src=\"adapter1.png\" alt=\"Alt Text\" width=\"600\"/>\n",
    "\n",
    "<img src=\"adapter2.png\" alt=\"Alt Text\" width=\"600\"/>\n",
    "<img src=\"adapter3.png\" alt=\"Alt Text\" width=\"600\"/>\n",
    "\n",
    "#### Structure\n",
    "<img src=\"adapter4.png\" alt=\"Alt Text\" width=\"600\"/>"
   ]
  },
  {
   "cell_type": "code",
   "execution_count": 6,
   "id": "b503c8ad",
   "metadata": {},
   "outputs": [
    {
     "name": "stdout",
     "output_type": "stream",
     "text": [
      "120\n"
     ]
    }
   ],
   "source": [
    "\n",
    "\n",
    "\n",
    "class EuropeanSocket:\n",
    "    def voltage(self): return 230\n",
    "\n",
    "class Adapter:\n",
    "    def __init__(self, socket): self.socket = socket\n",
    "    def voltage(self): return 120\n",
    "\n",
    "# Usage\n",
    "eu = EuropeanSocket()\n",
    "us = Adapter(eu)\n",
    "print(us.voltage())"
   ]
  },
  {
   "cell_type": "markdown",
   "id": "441cafd8",
   "metadata": {},
   "source": [
    "### Decorator\n",
    "\n",
    "Adds new behavior to objects dynamically.\n",
    "Use when: You want to add responsibilities to objects without subclassing.\n",
    "\n",
    "\n",
    "\n",
    "#### Intent\n",
    "<img src=\"decorator1.png\" alt=\"Alt Text\" width=\"600\"/>\n",
    "\n",
    "<img src=\"decorator2.png\" alt=\"Alt Text\" width=\"600\"/>\n",
    "<img src=\"decorator3.png\" alt=\"Alt Text\" width=\"600\"/>\n",
    "<img src=\"decorator4.png\" alt=\"Alt Text\" width=\"600\"/>\n",
    "<img src=\"decorator5.png\" alt=\"Alt Text\" width=\"600\"/>\n",
    "\n",
    "#### Structure\n",
    "<img src=\"decorator6.png\" alt=\"Alt Text\" width=\"600\"/>\n"
   ]
  },
  {
   "cell_type": "code",
   "execution_count": 7,
   "id": "09944c2e",
   "metadata": {},
   "outputs": [
    {
     "name": "stdout",
     "output_type": "stream",
     "text": [
      "<b>Hello</b>\n"
     ]
    }
   ],
   "source": [
    "\n",
    "def bold(func):\n",
    "    def wrapper():\n",
    "        return f\"<b>{func()}</b>\"\n",
    "    return wrapper\n",
    "\n",
    "@bold\n",
    "def greet(): return \"Hello\"\n",
    "\n",
    "print(greet())"
   ]
  },
  {
   "cell_type": "markdown",
   "id": "47360573",
   "metadata": {},
   "source": [
    "### Proxy\n",
    "\n",
    "Provides a surrogate or placeholder for another object.\n",
    "Use when: You need to control access to an object.\n",
    "\n",
    "#### Intent\n",
    "<img src=\"proxy1.png\" alt=\"Alt Text\" width=\"600\"/>\n",
    "\n",
    "<img src=\"proxy2.png\" alt=\"Alt Text\" width=\"600\"/>\n",
    "<img src=\"proxy3.png\" alt=\"Alt Text\" width=\"600\"/>\n",
    "<img src=\"proxy4.png\" alt=\"Alt Text\" width=\"600\"/>\n",
    "\n",
    "#### Structure\n",
    "<img src=\"proxy5.png\" alt=\"Alt Text\" width=\"600\"/>\n"
   ]
  },
  {
   "cell_type": "code",
   "execution_count": 8,
   "id": "6685984a",
   "metadata": {},
   "outputs": [
    {
     "name": "stdout",
     "output_type": "stream",
     "text": [
      "Proxy: Real object response\n"
     ]
    }
   ],
   "source": [
    "\n",
    "class RealObject:\n",
    "    def request(self): return \"Real object response\"\n",
    "\n",
    "class Proxy:\n",
    "    def __init__(self): self.real = RealObject()\n",
    "    def request(self): return f\"Proxy: {self.real.request()}\"\n",
    "\n",
    "# Usage\n",
    "proxy = Proxy()\n",
    "print(proxy.request())"
   ]
  },
  {
   "cell_type": "markdown",
   "id": "7d3c86f9",
   "metadata": {},
   "source": [
    "### Facade\n",
    "\n",
    "Provides a simplified interface to a complex system.\n",
    "Use when: You want to provide a unified interface.\n",
    "\n",
    "\n",
    "\n",
    "#### Intent\n",
    "<img src=\"facade1.png\" alt=\"Alt Text\" width=\"600\"/>\n",
    "\n",
    "<img src=\"facade2.png\" alt=\"Alt Text\" width=\"600\"/>\n",
    "\n",
    "#### Structure\n",
    "<img src=\"facade3.png\" alt=\"Alt Text\" width=\"600\"/>\n",
    "\n",
    "\n",
    "#### EXAMPLE\n",
    "<img src=\"facade4.png\" alt=\"Alt Text\" width=\"600\"/>"
   ]
  },
  {
   "cell_type": "code",
   "execution_count": 9,
   "id": "d36c6e22",
   "metadata": {},
   "outputs": [
    {
     "name": "stdout",
     "output_type": "stream",
     "text": [
      "Engine started and Lights on\n"
     ]
    }
   ],
   "source": [
    "\n",
    "class Engine:\n",
    "    def start(self): return \"Engine started\"\n",
    "\n",
    "class Lights:\n",
    "    def on(self): return \"Lights on\"\n",
    "\n",
    "class Car:\n",
    "    def start(self):\n",
    "        return f\"{Engine().start()} and {Lights().on()}\"\n",
    "\n",
    "# Usage\n",
    "car = Car()\n",
    "print(car.start())"
   ]
  },
  {
   "cell_type": "markdown",
   "id": "b309f5a2",
   "metadata": {},
   "source": [
    "### Composite\n",
    "\n",
    "Composes objects into tree structures.\n",
    "Use when: You want to treat individual objects and compositions uniformly.\n",
    "\n",
    "\n",
    "\n",
    "\n",
    "#### Intent\n",
    "<img src=\"composite1.png\" alt=\"Alt Text\" width=\"600\"/>\n",
    "\n",
    "<img src=\"composite2.png\" alt=\"Alt Text\" width=\"600\"/>\n",
    "\n",
    "<img src=\"composite3.png\" alt=\"Alt Text\" width=\"600\"/>\n",
    "\n",
    "\n",
    "#### Structure\n",
    "<img src=\"composite4.png\" alt=\"Alt Text\" width=\"500\"/>"
   ]
  },
  {
   "cell_type": "code",
   "execution_count": 10,
   "id": "b689d1da",
   "metadata": {},
   "outputs": [
    {
     "name": "stdout",
     "output_type": "stream",
     "text": [
      "Leaf+Leaf\n"
     ]
    }
   ],
   "source": [
    "\n",
    "class Component:\n",
    "    def operation(self): pass\n",
    "\n",
    "class Leaf(Component):\n",
    "    def operation(self): return \"Leaf\"\n",
    "\n",
    "class Composite(Component):\n",
    "    def __init__(self): self.children = []\n",
    "    def add(self, child): self.children.append(child)\n",
    "    def operation(self):\n",
    "        return '+'.join(child.operation() for child in self.children)\n",
    "\n",
    "# Usage\n",
    "comp = Composite()\n",
    "comp.add(Leaf())\n",
    "comp.add(Leaf())\n",
    "print(comp.operation())"
   ]
  },
  {
   "cell_type": "code",
   "execution_count": 11,
   "id": "c20b63b3",
   "metadata": {},
   "outputs": [
    {
     "name": "stdout",
     "output_type": "stream",
     "text": [
      "Client: I've got a simple component:\n",
      "RESULT: Leaf\n",
      "\n",
      "Client: Now I've got a composite tree:\n",
      "RESULT: Branch(Branch(Leaf+Leaf)+Branch(Leaf))\n",
      "\n",
      "Client: I don't need to check the components classes even when managing the tree:\n",
      "RESULT: Branch(Branch(Leaf+Leaf)+Branch(Leaf)+Leaf)"
     ]
    }
   ],
   "source": [
    "from __future__ import annotations\n",
    "from abc import ABC, abstractmethod\n",
    "from typing import List\n",
    "\n",
    "\n",
    "class Component(ABC):\n",
    "    \"\"\"\n",
    "    The base Component class declares common operations for both simple and\n",
    "    complex objects of a composition.\n",
    "    \"\"\"\n",
    "\n",
    "    @property\n",
    "    def parent(self) -> Component:\n",
    "        return self._parent\n",
    "\n",
    "    @parent.setter\n",
    "    def parent(self, parent: Component):\n",
    "        \"\"\"\n",
    "        Optionally, the base Component can declare an interface for setting and\n",
    "        accessing a parent of the component in a tree structure. It can also\n",
    "        provide some default implementation for these methods.\n",
    "        \"\"\"\n",
    "\n",
    "        self._parent = parent\n",
    "\n",
    "    \"\"\"\n",
    "    In some cases, it would be beneficial to define the child-management\n",
    "    operations right in the base Component class. This way, you won't need to\n",
    "    expose any concrete component classes to the client code, even during the\n",
    "    object tree assembly. The downside is that these methods will be empty for\n",
    "    the leaf-level components.\n",
    "    \"\"\"\n",
    "\n",
    "    def add(self, component: Component) -> None:\n",
    "        pass\n",
    "\n",
    "    def remove(self, component: Component) -> None:\n",
    "        pass\n",
    "\n",
    "    def is_composite(self) -> bool:\n",
    "        \"\"\"\n",
    "        You can provide a method that lets the client code figure out whether a\n",
    "        component can bear children.\n",
    "        \"\"\"\n",
    "\n",
    "        return False\n",
    "\n",
    "    @abstractmethod\n",
    "    def operation(self) -> str:\n",
    "        \"\"\"\n",
    "        The base Component may implement some default behavior or leave it to\n",
    "        concrete classes (by declaring the method containing the behavior as\n",
    "        \"abstract\").\n",
    "        \"\"\"\n",
    "\n",
    "        pass\n",
    "\n",
    "\n",
    "class Leaf(Component):\n",
    "    \"\"\"\n",
    "    The Leaf class represents the end objects of a composition. A leaf can't\n",
    "    have any children.\n",
    "\n",
    "    Usually, it's the Leaf objects that do the actual work, whereas Composite\n",
    "    objects only delegate to their sub-components.\n",
    "    \"\"\"\n",
    "\n",
    "    def operation(self) -> str:\n",
    "        return \"Leaf\"\n",
    "\n",
    "\n",
    "class Composite(Component):\n",
    "    \"\"\"\n",
    "    The Composite class represents the complex components that may have\n",
    "    children. Usually, the Composite objects delegate the actual work to their\n",
    "    children and then \"sum-up\" the result.\n",
    "    \"\"\"\n",
    "\n",
    "    def __init__(self) -> None:\n",
    "        self._children: List[Component] = []\n",
    "\n",
    "    \"\"\"\n",
    "    A composite object can add or remove other components (both simple or\n",
    "    complex) to or from its child list.\n",
    "    \"\"\"\n",
    "\n",
    "    def add(self, component: Component) -> None:\n",
    "        self._children.append(component)\n",
    "        component.parent = self\n",
    "\n",
    "    def remove(self, component: Component) -> None:\n",
    "        self._children.remove(component)\n",
    "        component.parent = None\n",
    "\n",
    "    def is_composite(self) -> bool:\n",
    "        return True\n",
    "\n",
    "    def operation(self) -> str:\n",
    "        \"\"\"\n",
    "        The Composite executes its primary logic in a particular way. It\n",
    "        traverses recursively through all its children, collecting and summing\n",
    "        their results. Since the composite's children pass these calls to their\n",
    "        children and so forth, the whole object tree is traversed as a result.\n",
    "        \"\"\"\n",
    "\n",
    "        results = []\n",
    "        for child in self._children:\n",
    "            results.append(child.operation())\n",
    "        return f\"Branch({'+'.join(results)})\"\n",
    "\n",
    "\n",
    "def client_code(component: Component) -> None:\n",
    "    \"\"\"\n",
    "    The client code works with all of the components via the base interface.\n",
    "    \"\"\"\n",
    "\n",
    "    print(f\"RESULT: {component.operation()}\", end=\"\")\n",
    "\n",
    "\n",
    "def client_code2(component1: Component, component2: Component) -> None:\n",
    "    \"\"\"\n",
    "    Thanks to the fact that the child-management operations are declared in the\n",
    "    base Component class, the client code can work with any component, simple or\n",
    "    complex, without depending on their concrete classes.\n",
    "    \"\"\"\n",
    "\n",
    "    if component1.is_composite():\n",
    "        component1.add(component2)\n",
    "\n",
    "    print(f\"RESULT: {component1.operation()}\", end=\"\")\n",
    "\n",
    "\n",
    "if __name__ == \"__main__\":\n",
    "    # This way the client code can support the simple leaf components...\n",
    "    simple = Leaf()\n",
    "    print(\"Client: I've got a simple component:\")\n",
    "    client_code(simple)\n",
    "    print(\"\\n\")\n",
    "\n",
    "    # ...as well as the complex composites.\n",
    "    tree = Composite()\n",
    "\n",
    "    branch1 = Composite()\n",
    "    branch1.add(Leaf())\n",
    "    branch1.add(Leaf())\n",
    "\n",
    "    branch2 = Composite()\n",
    "    branch2.add(Leaf())\n",
    "\n",
    "    tree.add(branch1)\n",
    "    tree.add(branch2)\n",
    "\n",
    "    print(\"Client: Now I've got a composite tree:\")\n",
    "    client_code(tree)\n",
    "    print(\"\\n\")\n",
    "\n",
    "    print(\"Client: I don't need to check the components classes even when managing the tree:\")\n",
    "    client_code2(tree, simple)"
   ]
  },
  {
   "cell_type": "markdown",
   "id": "2dc8c704",
   "metadata": {},
   "source": [
    "## 3. Behavioral Patterns"
   ]
  },
  {
   "cell_type": "markdown",
   "id": "e6f091a9",
   "metadata": {},
   "source": [
    "### Observer\n",
    "\n",
    "Defines a one-to-many dependency so that when one object changes state, all its dependents are notified.\n",
    "Use when: A change to one object requires changing others.\n",
    "\n",
    "#### Intent\n",
    "<img src=\"behaviour1.png\" alt=\"Alt Text\" width=\"600\"/>\n",
    "\n",
    "<img src=\"behaviour2.png\" alt=\"Alt Text\" width=\"600\"/>\n",
    "\n",
    "\n",
    "\n",
    "#### Structure\n",
    "<img src=\"behaviour3.png\" alt=\"Alt Text\" width=\"500\"/>"
   ]
  },
  {
   "cell_type": "code",
   "execution_count": 12,
   "id": "3b696ac8",
   "metadata": {},
   "outputs": [
    {
     "name": "stdout",
     "output_type": "stream",
     "text": [
      "Observer received: Event Happened\n"
     ]
    }
   ],
   "source": [
    "\n",
    "\n",
    "\n",
    "class Subject:\n",
    "    def __init__(self):\n",
    "        self._observers = []\n",
    "\n",
    "    def attach(self, observer):\n",
    "        self._observers.append(observer)\n",
    "\n",
    "    def notify(self, msg):\n",
    "        for observer in self._observers:\n",
    "            observer.update(msg)\n",
    "\n",
    "class Observer:\n",
    "    def update(self, msg):\n",
    "        print(f\"Observer received: {msg}\")\n",
    "\n",
    "# Usage\n",
    "subject = Subject()\n",
    "obs1 = Observer()\n",
    "subject.attach(obs1)\n",
    "subject.notify(\"Event Happened\")"
   ]
  },
  {
   "cell_type": "code",
   "execution_count": null,
   "id": "2ce9d894",
   "metadata": {},
   "outputs": [],
   "source": [
    "### Strategy\n",
    "\"\"\"\n",
    "Defines a family of algorithms, encapsulates each one, and makes them interchangeable.\n",
    "Use when: You need different variants of an algorithm.\n",
    "\"\"\"\n",
    "class Strategy:\n",
    "    def execute(self, data): pass\n",
    "\n",
    "class SortAsc(Strategy):\n",
    "    def execute(self, data): return sorted(data)\n",
    "\n",
    "class SortDesc(Strategy):\n",
    "    def execute(self, data): return sorted(data, reverse=True)\n",
    "\n",
    "class Context:\n",
    "    def __init__(self, strategy): self.strategy = strategy\n",
    "    def sort(self, data): return self.strategy.execute(data)\n",
    "\n",
    "# Usage\n",
    "context = Context(SortAsc())\n",
    "print(context.sort([3, 1, 2]))"
   ]
  },
  {
   "cell_type": "code",
   "execution_count": null,
   "id": "951ff0a8",
   "metadata": {},
   "outputs": [],
   "source": [
    "### Command\n",
    "\"\"\"\n",
    "Encapsulates a request as an object, thereby letting you parameterize clients with different requests.\n",
    "Use when: You need to issue requests to objects without knowing anything about the operation being requested.\n",
    "\"\"\"\n",
    "class Command:\n",
    "    def execute(self): pass\n",
    "\n",
    "class LightOn(Command):\n",
    "    def execute(self): return \"Light is ON\"\n",
    "\n",
    "class Remote:\n",
    "    def __init__(self): self.command = None\n",
    "    def set_command(self, cmd): self.command = cmd\n",
    "    def press(self): return self.command.execute()\n",
    "\n",
    "# Usage\n",
    "remote = Remote()\n",
    "remote.set_command(LightOn())\n",
    "print(remote.press())"
   ]
  },
  {
   "cell_type": "code",
   "execution_count": null,
   "id": "91f843bf",
   "metadata": {},
   "outputs": [],
   "source": [
    "### State\n",
    "\"\"\"\n",
    "Allows an object to alter its behavior when its internal state changes.\n",
    "Use when: An object must change its behavior at runtime depending on its state.\n",
    "\"\"\"\n",
    "class State:\n",
    "    def handle(self): pass\n",
    "\n",
    "class HappyState(State):\n",
    "    def handle(self): return \"I'm happy!\"\n",
    "\n",
    "class SadState(State):\n",
    "    def handle(self): return \"I'm sad.\"\n",
    "\n",
    "class Context:\n",
    "    def __init__(self, state): self.state = state\n",
    "    def request(self): return self.state.handle()\n",
    "\n",
    "# Usage\n",
    "context = Context(HappyState())\n",
    "print(context.request())"
   ]
  },
  {
   "cell_type": "code",
   "execution_count": null,
   "id": "f717d8c6",
   "metadata": {},
   "outputs": [],
   "source": [
    "### Chain of Responsibility\n",
    "\"\"\"\n",
    "Gives more than one object a chance to handle a request by passing it along the chain.\n",
    "Use when: More than one object may handle a request.\n",
    "\"\"\"\n",
    "class Handler:\n",
    "    def __init__(self, successor=None):\n",
    "        self.successor = successor\n",
    "\n",
    "    def handle(self, request):\n",
    "        if self.successor:\n",
    "            return self.successor.handle(request)\n",
    "        return \"End of chain\"\n",
    "\n",
    "class ConcreteHandlerA(Handler):\n",
    "    def handle(self, request):\n",
    "        if request == 'A':\n",
    "            return \"Handled by A\"\n",
    "        return super().handle(request)\n",
    "\n",
    "class ConcreteHandlerB(Handler):\n",
    "    def handle(self, request):\n",
    "        if request == 'B':\n",
    "            return \"Handled by B\"\n",
    "        return super().handle(request)\n",
    "\n",
    "# Usage\n",
    "chain = ConcreteHandlerA(ConcreteHandlerB())\n",
    "print(chain.handle('B'))\n",
    "print(chain.handle('C'))"
   ]
  }
 ],
 "metadata": {
  "kernelspec": {
   "display_name": "Python 3",
   "language": "python",
   "name": "python3"
  },
  "language_info": {
   "codemirror_mode": {
    "name": "ipython",
    "version": 3
   },
   "file_extension": ".py",
   "mimetype": "text/x-python",
   "name": "python",
   "nbconvert_exporter": "python",
   "pygments_lexer": "ipython3",
   "version": "3.11.11"
  }
 },
 "nbformat": 4,
 "nbformat_minor": 5
}
