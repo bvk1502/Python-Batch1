{
 "cells": [
  {
   "cell_type": "markdown",
   "id": "1b5f8ad6",
   "metadata": {},
   "source": [
    "# Design Patterns in Python - Detailed Explanation and Implementation\n",
    "\n"
   ]
  },
  {
   "cell_type": "markdown",
   "id": "2dc8c704",
   "metadata": {},
   "source": [
    "## 3. Behavioral Patterns"
   ]
  },
  {
   "cell_type": "markdown",
   "id": "e6f091a9",
   "metadata": {},
   "source": [
    "### Observer\n",
    "\n",
    "Defines a one-to-many dependency so that when one object changes state, all its dependents are notified.\n",
    "Use when: A change to one object requires changing others.\n",
    "\n",
    "#### Intent\n",
    "<img src=\"behaviour1.png\" alt=\"Alt Text\" width=\"600\"/>\n",
    "\n",
    "<img src=\"behaviour2.png\" alt=\"Alt Text\" width=\"600\"/>\n",
    "\n",
    "\n",
    "\n",
    "#### Structure\n",
    "<img src=\"behaviour3.png\" alt=\"Alt Text\" width=\"500\"/>"
   ]
  },
  {
   "cell_type": "code",
   "execution_count": 1,
   "id": "3b696ac8",
   "metadata": {},
   "outputs": [
    {
     "name": "stdout",
     "output_type": "stream",
     "text": [
      "Observer Observer 1 received: Event Happened\n",
      "Observer Observer 2 received: Event Happened\n"
     ]
    }
   ],
   "source": [
    "\n",
    "\n",
    "\n",
    "class Subject:\n",
    "    def __init__(self):\n",
    "        self._observers = []\n",
    "\n",
    "    def attach(self, observer):\n",
    "        self._observers.append(observer)\n",
    "\n",
    "    def notify(self, msg):\n",
    "        for observer in self._observers:\n",
    "            observer.update(msg)\n",
    "\n",
    "class Observer:\n",
    "    \n",
    "    def __init__(self, name):\n",
    "        self.name = name\n",
    "\n",
    "    def update(self, msg):\n",
    "        print(f\"Observer {self.name} received: {msg}\")\n",
    "\n",
    "# Usage\n",
    "subject = Subject()\n",
    "obs1 = Observer(\"Observer 1\")\n",
    "obs2 = Observer(\"Observer 2\")\n",
    "subject.attach(obs1)\n",
    "subject.attach(obs2)\n",
    "subject.notify(\"Event Happened\")"
   ]
  },
  {
   "cell_type": "code",
   "execution_count": null,
   "id": "837a969a",
   "metadata": {},
   "outputs": [],
   "source": []
  },
  {
   "cell_type": "markdown",
   "id": "74718dff",
   "metadata": {},
   "source": [
    "### Strategy\n",
    "Defines a family of algorithms, encapsulates each one, and makes them interchangeable.\n",
    "Use when: You need different variants of an algorithm.\n",
    "\n",
    "#### Intent\n",
    "<img src=\"strategy1.png\" alt=\"Alt Text\" width=\"600\"/>\n",
    "\n",
    "\n",
    "\n",
    "\n",
    "\n",
    "#### Structure\n",
    "<img src=\"strategy2.png\" alt=\"Alt Text\" width=\"500\"/>"
   ]
  },
  {
   "cell_type": "code",
   "execution_count": 2,
   "id": "2ce9d894",
   "metadata": {},
   "outputs": [
    {
     "name": "stdout",
     "output_type": "stream",
     "text": [
      "[1, 2, 3]\n"
     ]
    }
   ],
   "source": [
    "\n",
    "class Strategy:\n",
    "    def execute(self, data): pass\n",
    "\n",
    "class SortAsc(Strategy):\n",
    "    def execute(self, data): return sorted(data)\n",
    "\n",
    "class SortDesc(Strategy):\n",
    "    def execute(self, data): return sorted(data, reverse=True)\n",
    "\n",
    "class Context:\n",
    "    def __init__(self, strategy): self.strategy = strategy\n",
    "    def sort(self, data): return self.strategy.execute(data)\n",
    "\n",
    "# Usage\n",
    "context = Context(SortAsc())\n",
    "print(context.sort([3, 1, 2]))"
   ]
  },
  {
   "cell_type": "markdown",
   "id": "b11f03c8",
   "metadata": {},
   "source": [
    "### Command\n",
    "\n",
    "Encapsulates a request as an object, thereby letting you parameterize clients with different requests.\n",
    "Use when: You need to issue requests to objects without knowing anything about the operation being requested.\n",
    "\n",
    "#### Intent\n",
    "<img src=\"command1.png\" alt=\"Alt Text\" width=\"600\"/>\n",
    "\n",
    "\n",
    "\n",
    "\n",
    "\n",
    "#### Structure\n",
    "<img src=\"command2.png\" alt=\"Alt Text\" width=\"500\"/>\n"
   ]
  },
  {
   "cell_type": "code",
   "execution_count": 3,
   "id": "951ff0a8",
   "metadata": {},
   "outputs": [
    {
     "name": "stdout",
     "output_type": "stream",
     "text": [
      "Light is ON\n"
     ]
    }
   ],
   "source": [
    "\n",
    "class Command:\n",
    "    def execute(self): pass\n",
    "\n",
    "class LightOn(Command):\n",
    "    def execute(self): return \"Light is ON\"\n",
    "\n",
    "class Remote:\n",
    "    def __init__(self): self.command = None\n",
    "    def set_command(self, cmd): self.command = cmd\n",
    "    def press(self): return self.command.execute()\n",
    "\n",
    "# Usage\n",
    "remote = Remote()\n",
    "remote.set_command(LightOn())\n",
    "print(remote.press())"
   ]
  },
  {
   "cell_type": "markdown",
   "id": "37b164f7",
   "metadata": {},
   "source": [
    "### State\n",
    "\n",
    "Allows an object to alter its behavior when its internal state changes.\n",
    "Use when: An object must change its behavior at runtime depending on its state.\n"
   ]
  },
  {
   "cell_type": "code",
   "execution_count": 4,
   "id": "91f843bf",
   "metadata": {},
   "outputs": [
    {
     "name": "stdout",
     "output_type": "stream",
     "text": [
      "I'm happy!\n"
     ]
    }
   ],
   "source": [
    "\n",
    "class State:\n",
    "    def handle(self): pass\n",
    "\n",
    "#HappyState is Group Admin\n",
    "class HappyState(State):\n",
    "    def handle(self): return \"I'm happy!\"\n",
    "\n",
    "#SadSTate is Group Member\n",
    "class SadState(State):\n",
    "    def handle(self): return \"I'm sad.\"\n",
    "\n",
    "#Context is Whatsapp Group\n",
    "class Context:\n",
    "    def __init__(self, state): self.state = state\n",
    "    def request(self): return self.state.handle()\n",
    "\n",
    "# Usage\n",
    "context = Context(HappyState())\n",
    "print(context.request())"
   ]
  },
  {
   "cell_type": "markdown",
   "id": "b60de916",
   "metadata": {},
   "source": [
    "### Chain of Responsibility\n",
    "\n",
    "Gives more than one object a chance to handle a request by passing it along the chain.\n",
    "Use when: More than one object may handle a request.\n"
   ]
  },
  {
   "cell_type": "code",
   "execution_count": 5,
   "id": "f717d8c6",
   "metadata": {},
   "outputs": [
    {
     "name": "stdout",
     "output_type": "stream",
     "text": [
      "Handled by B\n",
      "End of chain\n"
     ]
    }
   ],
   "source": [
    "\n",
    "class Handler:\n",
    "    def __init__(self, successor=None):\n",
    "        self.successor = successor\n",
    "\n",
    "    def handle(self, request):\n",
    "        if self.successor:\n",
    "            return self.successor.handle(request)\n",
    "        return \"End of chain\"\n",
    "\n",
    "class ConcreteHandlerA(Handler):\n",
    "    def handle(self, request):\n",
    "        if request == 'A':\n",
    "            return \"Handled by A\"\n",
    "        return super().handle(request)\n",
    "\n",
    "class ConcreteHandlerB(Handler):\n",
    "    def handle(self, request):\n",
    "        if request == 'B':\n",
    "            return \"Handled by B\"\n",
    "        return super().handle(request)\n",
    "\n",
    "# Usage\n",
    "chain = ConcreteHandlerA(ConcreteHandlerB())\n",
    "print(chain.handle('B'))\n",
    "print(chain.handle('C'))"
   ]
  },
  {
   "cell_type": "code",
   "execution_count": 7,
   "id": "97b8ec12",
   "metadata": {},
   "outputs": [
    {
     "name": "stdout",
     "output_type": "stream",
     "text": [
      "ConsoleLogger\n",
      "Exists : [Console] This is an info message.\n",
      "ConsoleLogger\n",
      "FileLogger\n",
      "[File] This is a warning message. (logged to file)\n",
      "ConsoleLogger\n",
      "FileLogger\n",
      "EmailLogger\n",
      "[Email] This is an error message. (sent via email)\n",
      "ConsoleLogger\n",
      "FileLogger\n",
      "EmailLogger\n"
     ]
    }
   ],
   "source": [
    "from abc import ABC, abstractmethod\n",
    "\n",
    "# Handler Interface\n",
    "class Handler(ABC):\n",
    "    def __init__(self):\n",
    "        self.next_handler = None\n",
    "\n",
    "    def set_next(self, handler):\n",
    "        self.next_handler = handler\n",
    "        return handler  # Enables chaining\n",
    "\n",
    "    @abstractmethod\n",
    "    def handle(self, level, message):\n",
    "        pass\n",
    "\n",
    "\n",
    "# Concrete Handlers\n",
    "class ConsoleLogger(Handler):\n",
    "    def handle(self, level, message):\n",
    "        print(\"ConsoleLogger\")\n",
    "        if level == \"INFO\":\n",
    "            print(f\"Exists : [Console] {message}\")\n",
    "        elif self.next_handler:\n",
    "            self.next_handler.handle(level, message)\n",
    "\n",
    "\n",
    "class FileLogger(Handler):\n",
    "    def handle(self, level, message):\n",
    "        print(\"FileLogger\")\n",
    "        if level == \"WARNING\":\n",
    "            print(f\"[File] {message} (logged to file)\")\n",
    "        elif self.next_handler:\n",
    "            self.next_handler.handle(level, message)\n",
    "\n",
    "\n",
    "class EmailLogger(Handler):\n",
    "    def handle(self, level, message):\n",
    "        print(\"EmailLogger\")\n",
    "        if level == \"ERROR\":\n",
    "            print(f\"[Email] {message} (sent via email)\")\n",
    "        elif self.next_handler:\n",
    "            self.next_handler.handle(level, message)\n",
    "\n",
    "\n",
    "# Setup chain: Console -> File -> Email\n",
    "console = ConsoleLogger()\n",
    "file = FileLogger()\n",
    "email = EmailLogger()\n",
    "\n",
    "console.set_next(file).set_next(email)\n",
    "\n",
    "# Sample requests\n",
    "console.handle(\"INFO\", \"This is an info message.\")\n",
    "console.handle(\"WARNING\", \"This is a warning message.\")\n",
    "console.handle(\"ERROR\", \"This is an error message.\")\n",
    "console.handle(\"DEBUG\", \"This is a debug message.\")  # Not handled\n"
   ]
  }
 ],
 "metadata": {
  "kernelspec": {
   "display_name": "Python 3",
   "language": "python",
   "name": "python3"
  },
  "language_info": {
   "codemirror_mode": {
    "name": "ipython",
    "version": 3
   },
   "file_extension": ".py",
   "mimetype": "text/x-python",
   "name": "python",
   "nbconvert_exporter": "python",
   "pygments_lexer": "ipython3",
   "version": "3.11.11"
  }
 },
 "nbformat": 4,
 "nbformat_minor": 5
}
