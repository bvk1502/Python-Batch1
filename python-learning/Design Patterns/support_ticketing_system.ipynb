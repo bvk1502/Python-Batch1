{
 "cells": [
  {
   "cell_type": "markdown",
   "metadata": {},
   "source": [
    "## Support Ticketing System\n",
    "\n",
    "### Description\n",
    "Imagine a support ticket system. Each support team (e.g., Level 1, Level 2, Level 3) checks the ticket. Any level can add comments, tag the ticket, or mark it resolved. Even if one team handles it, the ticket still passes to others for additional info or auditing.\n",
    "\n",
    "### Goal\n",
    "Every handler sees the ticket.\n",
    "\n",
    "Handlers can act or skip.\n",
    "\n",
    "Ticket contains shared data and status.\n",
    "\n"
   ]
  },
  {
   "cell_type": "code",
   "execution_count": 4,
   "metadata": {},
   "outputs": [
    {
     "name": "stdout",
     "output_type": "stream",
     "text": [
      "Resolved By: Level 2\n",
      "Comments:\n",
      "- Level 1: Escalated to Level 2.\n",
      "- Level 2: Analyzed logs and resolved issue.\n",
      "- Level 3: Reviewed and verified resolution.\n"
     ]
    }
   ],
   "source": [
    "class SupportTicket:\n",
    "    def __init__(self, issue, severity):\n",
    "        self.issue = issue\n",
    "        self.severity = severity\n",
    "        self.comments = []\n",
    "        self.resolved_by = None\n",
    "\n",
    "    def add_comment(self, handler, comment):\n",
    "        self.comments.append(f\"{handler}: {comment}\")\n",
    "\n",
    "    def resolve(self, handler):\n",
    "        self.resolved_by = handler\n",
    "\n",
    "\n",
    "# Base Handler\n",
    "class SupportHandler:\n",
    "    def __init__(self, name):\n",
    "        self.name = name\n",
    "        self.next_handler = None\n",
    "\n",
    "    def set_next(self, handler):\n",
    "        self.next_handler = handler\n",
    "        return handler\n",
    "\n",
    "    def handle(self, ticket: SupportTicket):\n",
    "        # Override this method\n",
    "        raise NotImplementedError\n",
    "\n",
    "\n",
    "# Concrete Handlers\n",
    "class Level1Support(SupportHandler):\n",
    "    def handle(self, ticket: SupportTicket):\n",
    "        if ticket.severity == \"low\":\n",
    "            ticket.add_comment(self.name, \"Handled basic troubleshooting.\")\n",
    "            ticket.resolve(self.name)\n",
    "        else:\n",
    "            ticket.add_comment(self.name, \"Escalated to Level 2.\")\n",
    "        if self.next_handler:\n",
    "            self.next_handler.handle(ticket)\n",
    "\n",
    "\n",
    "class Level2Support(SupportHandler):\n",
    "    def handle(self, ticket: SupportTicket):\n",
    "        if ticket.severity == \"medium\":\n",
    "            ticket.add_comment(self.name, \"Analyzed logs and resolved issue.\")\n",
    "            ticket.resolve(self.name)\n",
    "        else:\n",
    "            ticket.add_comment(self.name, \"Passed to Level 3.\")\n",
    "        if self.next_handler:\n",
    "            self.next_handler.handle(ticket)\n",
    "\n",
    "\n",
    "class Level3Support(SupportHandler):\n",
    "    def handle(self, ticket: SupportTicket):\n",
    "        if ticket.severity == \"high\":\n",
    "            ticket.add_comment(self.name, \"Performed deep analysis and applied fix.\")\n",
    "            ticket.resolve(self.name)\n",
    "        else:\n",
    "            ticket.add_comment(self.name, \"Reviewed and verified resolution.\")\n",
    "\n",
    "\n",
    "\n",
    "ticket = SupportTicket(\"System crash on login\", \"medium\")\n",
    "\n",
    "l1 = Level1Support(\"Level 1\")\n",
    "l2 = Level2Support(\"Level 2\")\n",
    "l3 = Level3Support(\"Level 3\")\n",
    "\n",
    "l1.set_next(l2).set_next(l3)\n",
    "\n",
    "l1.handle(ticket)\n",
    "\n",
    "print(f\"Resolved By: {ticket.resolved_by}\")\n",
    "print(\"Comments:\")\n",
    "for c in ticket.comments:\n",
    "    print(\"-\", c)\n"
   ]
  }
 ],
 "metadata": {
  "kernelspec": {
   "display_name": "Python 3",
   "language": "python",
   "name": "python3"
  },
  "language_info": {
   "codemirror_mode": {
    "name": "ipython",
    "version": 3
   },
   "file_extension": ".py",
   "mimetype": "text/x-python",
   "name": "python",
   "nbconvert_exporter": "python",
   "pygments_lexer": "ipython3",
   "version": "3.11.11"
  }
 },
 "nbformat": 4,
 "nbformat_minor": 2
}
