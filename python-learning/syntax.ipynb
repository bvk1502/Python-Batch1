{
 "cells": [
  {
   "cell_type": "markdown",
   "metadata": {},
   "source": [
    "Learn Syntax and Semantics in Python"
   ]
  },
  {
   "cell_type": "code",
   "execution_count": 1,
   "metadata": {},
   "outputs": [
    {
     "name": "stdout",
     "output_type": "stream",
     "text": [
      "Hello this is Basavaraj\n"
     ]
    }
   ],
   "source": [
    "print(\"Hello this is Basavaraj\")"
   ]
  },
  {
   "cell_type": "markdown",
   "metadata": {},
   "source": [
    "Python is Case-sensitive"
   ]
  },
  {
   "cell_type": "code",
   "execution_count": 2,
   "metadata": {},
   "outputs": [
    {
     "name": "stdout",
     "output_type": "stream",
     "text": [
      "This is Basu Variable\n",
      "basu is variable\n"
     ]
    }
   ],
   "source": [
    "Basu = \"This is Basu Variable\"\n",
    "basu = \"basu is variable\"\n",
    "print(Basu)\n",
    "print(basu)"
   ]
  },
  {
   "cell_type": "markdown",
   "metadata": {},
   "source": [
    "### Indentation\n",
    "Defines the structure and hierarchy of the code"
   ]
  },
  {
   "cell_type": "code",
   "execution_count": 8,
   "metadata": {},
   "outputs": [
    {
     "name": "stdout",
     "output_type": "stream",
     "text": [
      "this is function name\n",
      "hello\n",
      "this is 3rd line\n",
      "10\n"
     ]
    }
   ],
   "source": [
    "def function_name():\n",
    "    print(\"this is function name\")\n",
    "    print(\"hello\")\n",
    "    print(\"this is 3rd line\")\n",
    "    \n",
    "    variable = 10\n",
    "    print(variable)\n",
    "function_name()"
   ]
  },
  {
   "cell_type": "markdown",
   "metadata": {},
   "source": [
    "### Commenting"
   ]
  },
  {
   "cell_type": "code",
   "execution_count": 9,
   "metadata": {},
   "outputs": [],
   "source": [
    "#this is single line comment"
   ]
  },
  {
   "cell_type": "code",
   "execution_count": 11,
   "metadata": {},
   "outputs": [],
   "source": [
    "\"\"\"\n",
    "    This is Brief Desciption, Can be given to any function/method or class or line of execution\n",
    "\"\"\"\n",
    "\n",
    "\"\"\"\n",
    "    Below class is summation, where it accepts 2 parameters and returns sum of 2 parameters\n",
    "\"\"\"\n",
    "def summation(a,b):\n",
    "    return a+b"
   ]
  },
  {
   "cell_type": "markdown",
   "metadata": {},
   "source": [
    "## Multiple Statements"
   ]
  },
  {
   "cell_type": "code",
   "execution_count": 14,
   "metadata": {},
   "outputs": [
    {
     "name": "stdout",
     "output_type": "stream",
     "text": [
      "70\n"
     ]
    }
   ],
   "source": [
    "a=10 #single statement\n",
    "b=20 #single statement\n",
    "c=30;d=40;e=c+d #multiple statement example\n",
    "print(e)"
   ]
  },
  {
   "cell_type": "markdown",
   "metadata": {},
   "source": [
    "## Semantics\n"
   ]
  },
  {
   "cell_type": "code",
   "execution_count": 19,
   "metadata": {},
   "outputs": [
    {
     "name": "stdout",
     "output_type": "stream",
     "text": [
      "<class 'int'>\n",
      "<class 'str'>\n"
     ]
    }
   ],
   "source": [
    "a=10 #a is integer\n",
    "b=\"hello\" #b is string\n",
    "print(type(a))\n",
    "print(type(b))\n",
    "a=b"
   ]
  },
  {
   "cell_type": "code",
   "execution_count": 21,
   "metadata": {},
   "outputs": [
    {
     "name": "stdout",
     "output_type": "stream",
     "text": [
      "string variable\n"
     ]
    }
   ],
   "source": [
    "# strict data typing\n",
    "a:int=10\n",
    "b:str=\"string variable\"\n",
    "\n",
    "def __calcualte(a:int,b:str):\n",
    "    \"\"\" this function calculates\"\"\"\n",
    "a=b\n",
    "print(a)"
   ]
  },
  {
   "cell_type": "markdown",
   "metadata": {},
   "source": [
    "Conclusion : syntax and Semantics is important in python programming language"
   ]
  }
 ],
 "metadata": {
  "kernelspec": {
   "display_name": "Python 3",
   "language": "python",
   "name": "python3"
  },
  "language_info": {
   "codemirror_mode": {
    "name": "ipython",
    "version": 3
   },
   "file_extension": ".py",
   "mimetype": "text/x-python",
   "name": "python",
   "nbconvert_exporter": "python",
   "pygments_lexer": "ipython3",
   "version": "3.11.11"
  }
 },
 "nbformat": 4,
 "nbformat_minor": 2
}
