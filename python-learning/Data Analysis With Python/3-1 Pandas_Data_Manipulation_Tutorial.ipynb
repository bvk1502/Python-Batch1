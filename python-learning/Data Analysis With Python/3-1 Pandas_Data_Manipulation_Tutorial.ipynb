{
 "cells": [
  {
   "cell_type": "markdown",
   "metadata": {},
   "source": [
    "# Pandas Data Manipulation Tutorial\n",
    "In this notebook, we'll explore different types of data manipulation operations in pandas using a sample employee dataset."
   ]
  },
  {
   "cell_type": "code",
   "execution_count": 10,
   "metadata": {},
   "outputs": [
    {
     "data": {
      "application/vnd.microsoft.datawrangler.viewer.v0+json": {
       "columns": [
        {
         "name": "index",
         "rawType": "int64",
         "type": "integer"
        },
        {
         "name": "EmployeeID",
         "rawType": "int64",
         "type": "integer"
        },
        {
         "name": "Name",
         "rawType": "object",
         "type": "string"
        },
        {
         "name": "Department",
         "rawType": "object",
         "type": "string"
        },
        {
         "name": "Salary",
         "rawType": "int64",
         "type": "integer"
        },
        {
         "name": "JoiningDate",
         "rawType": "datetime64[ns]",
         "type": "datetime"
        }
       ],
       "conversionMethod": "pd.DataFrame",
       "ref": "c48dd69f-47b2-4ccf-9d43-5b7352d800e7",
       "rows": [
        [
         "0",
         "101",
         "Alice",
         "HR",
         "50000",
         "2020-01-10 00:00:00"
        ],
        [
         "1",
         "102",
         "Bob",
         "Finance",
         "60000",
         "2019-06-25 00:00:00"
        ],
        [
         "2",
         "103",
         "Charlie",
         "HR",
         "55000",
         "2021-03-15 00:00:00"
        ],
        [
         "3",
         "104",
         "David",
         "IT",
         "70000",
         "2018-07-01 00:00:00"
        ],
        [
         "4",
         "105",
         "Eva",
         "Finance",
         "62000",
         "2022-02-20 00:00:00"
        ]
       ],
       "shape": {
        "columns": 5,
        "rows": 5
       }
      },
      "text/html": [
       "<div>\n",
       "<style scoped>\n",
       "    .dataframe tbody tr th:only-of-type {\n",
       "        vertical-align: middle;\n",
       "    }\n",
       "\n",
       "    .dataframe tbody tr th {\n",
       "        vertical-align: top;\n",
       "    }\n",
       "\n",
       "    .dataframe thead th {\n",
       "        text-align: right;\n",
       "    }\n",
       "</style>\n",
       "<table border=\"1\" class=\"dataframe\">\n",
       "  <thead>\n",
       "    <tr style=\"text-align: right;\">\n",
       "      <th></th>\n",
       "      <th>EmployeeID</th>\n",
       "      <th>Name</th>\n",
       "      <th>Department</th>\n",
       "      <th>Salary</th>\n",
       "      <th>JoiningDate</th>\n",
       "    </tr>\n",
       "  </thead>\n",
       "  <tbody>\n",
       "    <tr>\n",
       "      <th>0</th>\n",
       "      <td>101</td>\n",
       "      <td>Alice</td>\n",
       "      <td>HR</td>\n",
       "      <td>50000</td>\n",
       "      <td>2020-01-10</td>\n",
       "    </tr>\n",
       "    <tr>\n",
       "      <th>1</th>\n",
       "      <td>102</td>\n",
       "      <td>Bob</td>\n",
       "      <td>Finance</td>\n",
       "      <td>60000</td>\n",
       "      <td>2019-06-25</td>\n",
       "    </tr>\n",
       "    <tr>\n",
       "      <th>2</th>\n",
       "      <td>103</td>\n",
       "      <td>Charlie</td>\n",
       "      <td>HR</td>\n",
       "      <td>55000</td>\n",
       "      <td>2021-03-15</td>\n",
       "    </tr>\n",
       "    <tr>\n",
       "      <th>3</th>\n",
       "      <td>104</td>\n",
       "      <td>David</td>\n",
       "      <td>IT</td>\n",
       "      <td>70000</td>\n",
       "      <td>2018-07-01</td>\n",
       "    </tr>\n",
       "    <tr>\n",
       "      <th>4</th>\n",
       "      <td>105</td>\n",
       "      <td>Eva</td>\n",
       "      <td>Finance</td>\n",
       "      <td>62000</td>\n",
       "      <td>2022-02-20</td>\n",
       "    </tr>\n",
       "  </tbody>\n",
       "</table>\n",
       "</div>"
      ],
      "text/plain": [
       "   EmployeeID     Name Department  Salary JoiningDate\n",
       "0         101    Alice         HR   50000  2020-01-10\n",
       "1         102      Bob    Finance   60000  2019-06-25\n",
       "2         103  Charlie         HR   55000  2021-03-15\n",
       "3         104    David         IT   70000  2018-07-01\n",
       "4         105      Eva    Finance   62000  2022-02-20"
      ]
     },
     "execution_count": 10,
     "metadata": {},
     "output_type": "execute_result"
    }
   ],
   "source": [
    "import pandas as pd\n",
    "\n",
    "data = {\n",
    "    \"EmployeeID\": [101, 102, 103, 104, 105],\n",
    "    \"Name\": [\"Alice\", \"Bob\", \"Charlie\", \"David\", \"Eva\"],\n",
    "    \"Department\": [\"HR\", \"Finance\", \"HR\", \"IT\", \"Finance\"],\n",
    "    \"Salary\": [50000, 60000, 55000, 70000, 62000],\n",
    "    \"JoiningDate\": pd.to_datetime([\"2020-01-10\", \"2019-06-25\", \"2021-03-15\", \"2018-07-01\", \"2022-02-20\"])\n",
    "}\n",
    "\n",
    "df = pd.DataFrame(data)\n",
    "df"
   ]
  },
  {
   "cell_type": "markdown",
   "metadata": {},
   "source": [
    "## Data Inspection"
   ]
  },
  {
   "cell_type": "code",
   "execution_count": 2,
   "metadata": {},
   "outputs": [
    {
     "name": "stdout",
     "output_type": "stream",
     "text": [
      "<class 'pandas.core.frame.DataFrame'>\n",
      "RangeIndex: 5 entries, 0 to 4\n",
      "Data columns (total 5 columns):\n",
      " #   Column       Non-Null Count  Dtype         \n",
      "---  ------       --------------  -----         \n",
      " 0   EmployeeID   5 non-null      int64         \n",
      " 1   Name         5 non-null      object        \n",
      " 2   Department   5 non-null      object        \n",
      " 3   Salary       5 non-null      int64         \n",
      " 4   JoiningDate  5 non-null      datetime64[ns]\n",
      "dtypes: datetime64[ns](1), int64(2), object(2)\n",
      "memory usage: 332.0+ bytes\n"
     ]
    },
    {
     "data": {
      "text/plain": [
       "EmployeeID              int64\n",
       "Name                   object\n",
       "Department             object\n",
       "Salary                  int64\n",
       "JoiningDate    datetime64[ns]\n",
       "dtype: object"
      ]
     },
     "execution_count": 2,
     "metadata": {},
     "output_type": "execute_result"
    }
   ],
   "source": [
    "df.head()\n",
    "df.info()\n",
    "df.describe()\n",
    "df.dtypes"
   ]
  },
  {
   "cell_type": "markdown",
   "metadata": {},
   "source": [
    "## Column Operations"
   ]
  },
  {
   "cell_type": "code",
   "execution_count": 11,
   "metadata": {},
   "outputs": [
    {
     "data": {
      "application/vnd.microsoft.datawrangler.viewer.v0+json": {
       "columns": [
        {
         "name": "index",
         "rawType": "int64",
         "type": "integer"
        },
        {
         "name": "Name",
         "rawType": "object",
         "type": "string"
        },
        {
         "name": "Department",
         "rawType": "object",
         "type": "string"
        },
        {
         "name": "AnnualSalary",
         "rawType": "int64",
         "type": "integer"
        },
        {
         "name": "JoiningDate",
         "rawType": "datetime64[ns]",
         "type": "datetime"
        },
        {
         "name": "Bonus",
         "rawType": "float64",
         "type": "float"
        }
       ],
       "conversionMethod": "pd.DataFrame",
       "ref": "a005e98d-d495-4f43-8420-4d2273bc1b3b",
       "rows": [
        [
         "0",
         "Alice",
         "HR",
         "50000",
         "2020-01-10 00:00:00",
         "5000.0"
        ],
        [
         "1",
         "Bob",
         "Finance",
         "60000",
         "2019-06-25 00:00:00",
         "6000.0"
        ],
        [
         "2",
         "Charlie",
         "HR",
         "55000",
         "2021-03-15 00:00:00",
         "5500.0"
        ],
        [
         "3",
         "David",
         "IT",
         "70000",
         "2018-07-01 00:00:00",
         "7000.0"
        ],
        [
         "4",
         "Eva",
         "Finance",
         "62000",
         "2022-02-20 00:00:00",
         "6200.0"
        ]
       ],
       "shape": {
        "columns": 5,
        "rows": 5
       }
      },
      "text/html": [
       "<div>\n",
       "<style scoped>\n",
       "    .dataframe tbody tr th:only-of-type {\n",
       "        vertical-align: middle;\n",
       "    }\n",
       "\n",
       "    .dataframe tbody tr th {\n",
       "        vertical-align: top;\n",
       "    }\n",
       "\n",
       "    .dataframe thead th {\n",
       "        text-align: right;\n",
       "    }\n",
       "</style>\n",
       "<table border=\"1\" class=\"dataframe\">\n",
       "  <thead>\n",
       "    <tr style=\"text-align: right;\">\n",
       "      <th></th>\n",
       "      <th>Name</th>\n",
       "      <th>Department</th>\n",
       "      <th>AnnualSalary</th>\n",
       "      <th>JoiningDate</th>\n",
       "      <th>Bonus</th>\n",
       "    </tr>\n",
       "  </thead>\n",
       "  <tbody>\n",
       "    <tr>\n",
       "      <th>0</th>\n",
       "      <td>Alice</td>\n",
       "      <td>HR</td>\n",
       "      <td>50000</td>\n",
       "      <td>2020-01-10</td>\n",
       "      <td>5000.0</td>\n",
       "    </tr>\n",
       "    <tr>\n",
       "      <th>1</th>\n",
       "      <td>Bob</td>\n",
       "      <td>Finance</td>\n",
       "      <td>60000</td>\n",
       "      <td>2019-06-25</td>\n",
       "      <td>6000.0</td>\n",
       "    </tr>\n",
       "    <tr>\n",
       "      <th>2</th>\n",
       "      <td>Charlie</td>\n",
       "      <td>HR</td>\n",
       "      <td>55000</td>\n",
       "      <td>2021-03-15</td>\n",
       "      <td>5500.0</td>\n",
       "    </tr>\n",
       "    <tr>\n",
       "      <th>3</th>\n",
       "      <td>David</td>\n",
       "      <td>IT</td>\n",
       "      <td>70000</td>\n",
       "      <td>2018-07-01</td>\n",
       "      <td>7000.0</td>\n",
       "    </tr>\n",
       "    <tr>\n",
       "      <th>4</th>\n",
       "      <td>Eva</td>\n",
       "      <td>Finance</td>\n",
       "      <td>62000</td>\n",
       "      <td>2022-02-20</td>\n",
       "      <td>6200.0</td>\n",
       "    </tr>\n",
       "  </tbody>\n",
       "</table>\n",
       "</div>"
      ],
      "text/plain": [
       "      Name Department  AnnualSalary JoiningDate   Bonus\n",
       "0    Alice         HR         50000  2020-01-10  5000.0\n",
       "1      Bob    Finance         60000  2019-06-25  6000.0\n",
       "2  Charlie         HR         55000  2021-03-15  5500.0\n",
       "3    David         IT         70000  2018-07-01  7000.0\n",
       "4      Eva    Finance         62000  2022-02-20  6200.0"
      ]
     },
     "execution_count": 11,
     "metadata": {},
     "output_type": "execute_result"
    }
   ],
   "source": [
    "# Rename column\n",
    "df.rename(columns={\"Salary\": \"AnnualSalary\"}, inplace=True)\n",
    "\n",
    "# Add new column\n",
    "df[\"Bonus\"] = df[\"AnnualSalary\"] * 0.10\n",
    "\n",
    "# Drop a column\n",
    "df = df.drop(\"EmployeeID\", axis=1)\n",
    "df"
   ]
  },
  {
   "cell_type": "markdown",
   "metadata": {},
   "source": [
    "## Row Filtering"
   ]
  },
  {
   "cell_type": "code",
   "execution_count": 16,
   "metadata": {},
   "outputs": [
    {
     "data": {
      "application/vnd.microsoft.datawrangler.viewer.v0+json": {
       "columns": [
        {
         "name": "index",
         "rawType": "int64",
         "type": "integer"
        },
        {
         "name": "Name",
         "rawType": "object",
         "type": "string"
        },
        {
         "name": "Department",
         "rawType": "object",
         "type": "string"
        },
        {
         "name": "AnnualSalary",
         "rawType": "int64",
         "type": "integer"
        },
        {
         "name": "JoiningDate",
         "rawType": "datetime64[ns]",
         "type": "datetime"
        },
        {
         "name": "Bonus",
         "rawType": "float64",
         "type": "float"
        }
       ],
       "conversionMethod": "pd.DataFrame",
       "ref": "01159677-80bf-4bfa-b183-9d5f5b7d1a77",
       "rows": [
        [
         "4",
         "Eva",
         "Finance",
         "62000",
         "2022-02-20 00:00:00",
         "6200.0"
        ]
       ],
       "shape": {
        "columns": 5,
        "rows": 1
       }
      },
      "text/html": [
       "<div>\n",
       "<style scoped>\n",
       "    .dataframe tbody tr th:only-of-type {\n",
       "        vertical-align: middle;\n",
       "    }\n",
       "\n",
       "    .dataframe tbody tr th {\n",
       "        vertical-align: top;\n",
       "    }\n",
       "\n",
       "    .dataframe thead th {\n",
       "        text-align: right;\n",
       "    }\n",
       "</style>\n",
       "<table border=\"1\" class=\"dataframe\">\n",
       "  <thead>\n",
       "    <tr style=\"text-align: right;\">\n",
       "      <th></th>\n",
       "      <th>Name</th>\n",
       "      <th>Department</th>\n",
       "      <th>AnnualSalary</th>\n",
       "      <th>JoiningDate</th>\n",
       "      <th>Bonus</th>\n",
       "    </tr>\n",
       "  </thead>\n",
       "  <tbody>\n",
       "    <tr>\n",
       "      <th>4</th>\n",
       "      <td>Eva</td>\n",
       "      <td>Finance</td>\n",
       "      <td>62000</td>\n",
       "      <td>2022-02-20</td>\n",
       "      <td>6200.0</td>\n",
       "    </tr>\n",
       "  </tbody>\n",
       "</table>\n",
       "</div>"
      ],
      "text/plain": [
       "  Name Department  AnnualSalary JoiningDate   Bonus\n",
       "4  Eva    Finance         62000  2022-02-20  6200.0"
      ]
     },
     "execution_count": 16,
     "metadata": {},
     "output_type": "execute_result"
    }
   ],
   "source": [
    "# Filter rows (select * from employee(table_name) where Department = 'HR)\n",
    "df1 = df[df[\"Department\"] == \"HR\"]\n",
    "\n",
    "# Multiple conditions\n",
    "df2 = df[(df[\"AnnualSalary\"] > 61000) & (df[\"Department\"] == \"Finance\")]\n",
    "df2"
   ]
  },
  {
   "cell_type": "markdown",
   "metadata": {},
   "source": [
    "## Sorting"
   ]
  },
  {
   "cell_type": "code",
   "execution_count": null,
   "metadata": {},
   "outputs": [
    {
     "data": {
      "application/vnd.microsoft.datawrangler.viewer.v0+json": {
       "columns": [
        {
         "name": "index",
         "rawType": "int64",
         "type": "integer"
        },
        {
         "name": "Name",
         "rawType": "object",
         "type": "string"
        },
        {
         "name": "Department",
         "rawType": "object",
         "type": "string"
        },
        {
         "name": "AnnualSalary",
         "rawType": "int64",
         "type": "integer"
        },
        {
         "name": "JoiningDate",
         "rawType": "datetime64[ns]",
         "type": "datetime"
        },
        {
         "name": "Bonus",
         "rawType": "float64",
         "type": "float"
        }
       ],
       "conversionMethod": "pd.DataFrame",
       "ref": "0e24c614-ca06-48f7-8a14-60b156d598e5",
       "rows": [
        [
         "3",
         "David",
         "IT",
         "70000",
         "2018-07-01 00:00:00",
         "7000.0"
        ],
        [
         "4",
         "Eva",
         "Finance",
         "62000",
         "2022-02-20 00:00:00",
         "6200.0"
        ],
        [
         "1",
         "Bob",
         "Finance",
         "60000",
         "2019-06-25 00:00:00",
         "6000.0"
        ],
        [
         "2",
         "Charlie",
         "HR",
         "55000",
         "2021-03-15 00:00:00",
         "5500.0"
        ],
        [
         "0",
         "Alice",
         "HR",
         "50000",
         "2020-01-10 00:00:00",
         "5000.0"
        ]
       ],
       "shape": {
        "columns": 5,
        "rows": 5
       }
      },
      "text/html": [
       "<div>\n",
       "<style scoped>\n",
       "    .dataframe tbody tr th:only-of-type {\n",
       "        vertical-align: middle;\n",
       "    }\n",
       "\n",
       "    .dataframe tbody tr th {\n",
       "        vertical-align: top;\n",
       "    }\n",
       "\n",
       "    .dataframe thead th {\n",
       "        text-align: right;\n",
       "    }\n",
       "</style>\n",
       "<table border=\"1\" class=\"dataframe\">\n",
       "  <thead>\n",
       "    <tr style=\"text-align: right;\">\n",
       "      <th></th>\n",
       "      <th>Name</th>\n",
       "      <th>Department</th>\n",
       "      <th>AnnualSalary</th>\n",
       "      <th>JoiningDate</th>\n",
       "      <th>Bonus</th>\n",
       "    </tr>\n",
       "  </thead>\n",
       "  <tbody>\n",
       "    <tr>\n",
       "      <th>3</th>\n",
       "      <td>David</td>\n",
       "      <td>IT</td>\n",
       "      <td>70000</td>\n",
       "      <td>2018-07-01</td>\n",
       "      <td>7000.0</td>\n",
       "    </tr>\n",
       "    <tr>\n",
       "      <th>4</th>\n",
       "      <td>Eva</td>\n",
       "      <td>Finance</td>\n",
       "      <td>62000</td>\n",
       "      <td>2022-02-20</td>\n",
       "      <td>6200.0</td>\n",
       "    </tr>\n",
       "    <tr>\n",
       "      <th>1</th>\n",
       "      <td>Bob</td>\n",
       "      <td>Finance</td>\n",
       "      <td>60000</td>\n",
       "      <td>2019-06-25</td>\n",
       "      <td>6000.0</td>\n",
       "    </tr>\n",
       "    <tr>\n",
       "      <th>2</th>\n",
       "      <td>Charlie</td>\n",
       "      <td>HR</td>\n",
       "      <td>55000</td>\n",
       "      <td>2021-03-15</td>\n",
       "      <td>5500.0</td>\n",
       "    </tr>\n",
       "    <tr>\n",
       "      <th>0</th>\n",
       "      <td>Alice</td>\n",
       "      <td>HR</td>\n",
       "      <td>50000</td>\n",
       "      <td>2020-01-10</td>\n",
       "      <td>5000.0</td>\n",
       "    </tr>\n",
       "  </tbody>\n",
       "</table>\n",
       "</div>"
      ],
      "text/plain": [
       "      Name Department  AnnualSalary JoiningDate   Bonus\n",
       "3    David         IT         70000  2018-07-01  7000.0\n",
       "4      Eva    Finance         62000  2022-02-20  6200.0\n",
       "1      Bob    Finance         60000  2019-06-25  6000.0\n",
       "2  Charlie         HR         55000  2021-03-15  5500.0\n",
       "0    Alice         HR         50000  2020-01-10  5000.0"
      ]
     },
     "execution_count": 17,
     "metadata": {},
     "output_type": "execute_result"
    }
   ],
   "source": [
    "#query ( select * from employess order by AnnualSalary desc)\n",
    "df2 = df.sort_values(by=\"AnnualSalary\", ascending=False)\n",
    "df2"
   ]
  },
  {
   "cell_type": "markdown",
   "metadata": {},
   "source": [
    "## GroupBy and Aggregation"
   ]
  },
  {
   "cell_type": "code",
   "execution_count": null,
   "metadata": {},
   "outputs": [
    {
     "data": {
      "text/plain": [
       "Department\n",
       "Finance    2\n",
       "HR         2\n",
       "IT         1\n",
       "Name: Name, dtype: int64"
      ]
     },
     "execution_count": 20,
     "metadata": {},
     "output_type": "execute_result"
    }
   ],
   "source": [
    "# query - select Department, avg(AnnualSalary) as AverageSalaryByDepartment from Employee group by Department\n",
    "# df2 = df.groupby(\"Department\")[\"AnnualSalary\"].mean()\n",
    "\n",
    "# df2\n",
    "df3 = df.groupby(\"Department\")[\"Name\"].count()\n",
    "df3"
   ]
  },
  {
   "cell_type": "markdown",
   "metadata": {},
   "source": [
    "## Missing Data Handling"
   ]
  },
  {
   "cell_type": "code",
   "execution_count": null,
   "metadata": {},
   "outputs": [
    {
     "name": "stderr",
     "output_type": "stream",
     "text": [
      "/var/folders/9k/84y4nb_x0bl39h9vs7wd0jr00000gn/T/ipykernel_13481/580404880.py:3: FutureWarning: A value is trying to be set on a copy of a DataFrame or Series through chained assignment using an inplace method.\n",
      "The behavior will change in pandas 3.0. This inplace method will never work because the intermediate object on which we are setting values always behaves as a copy.\n",
      "\n",
      "For example, when doing 'df[col].method(value, inplace=True)', try using 'df.method({col: value}, inplace=True)' or df[col] = df[col].method(value) instead, to perform the operation inplace on the original object.\n",
      "\n",
      "\n",
      "  df[\"Bonus\"].fillna(0, inplace=True)\n"
     ]
    },
    {
     "data": {
      "application/vnd.microsoft.datawrangler.viewer.v0+json": {
       "columns": [
        {
         "name": "index",
         "rawType": "int64",
         "type": "integer"
        },
        {
         "name": "Name",
         "rawType": "object",
         "type": "string"
        },
        {
         "name": "Department",
         "rawType": "object",
         "type": "string"
        },
        {
         "name": "AnnualSalary",
         "rawType": "int64",
         "type": "integer"
        },
        {
         "name": "JoiningDate",
         "rawType": "datetime64[ns]",
         "type": "datetime"
        },
        {
         "name": "Bonus",
         "rawType": "float64",
         "type": "float"
        }
       ],
       "conversionMethod": "pd.DataFrame",
       "ref": "5e9fc2cf-afad-45e0-a698-39b1f6dc83b6",
       "rows": [
        [
         "0",
         "Alice",
         "HR",
         "50000",
         "2020-01-10 00:00:00",
         "5000.0"
        ],
        [
         "1",
         "Bob",
         "Finance",
         "60000",
         "2019-06-25 00:00:00",
         "6000.0"
        ],
        [
         "2",
         "Charlie",
         "HR",
         "55000",
         "2021-03-15 00:00:00",
         "0.0"
        ],
        [
         "3",
         "David",
         "IT",
         "70000",
         "2018-07-01 00:00:00",
         "7000.0"
        ],
        [
         "4",
         "Eva",
         "Finance",
         "62000",
         "2022-02-20 00:00:00",
         "6200.0"
        ]
       ],
       "shape": {
        "columns": 5,
        "rows": 5
       }
      },
      "text/html": [
       "<div>\n",
       "<style scoped>\n",
       "    .dataframe tbody tr th:only-of-type {\n",
       "        vertical-align: middle;\n",
       "    }\n",
       "\n",
       "    .dataframe tbody tr th {\n",
       "        vertical-align: top;\n",
       "    }\n",
       "\n",
       "    .dataframe thead th {\n",
       "        text-align: right;\n",
       "    }\n",
       "</style>\n",
       "<table border=\"1\" class=\"dataframe\">\n",
       "  <thead>\n",
       "    <tr style=\"text-align: right;\">\n",
       "      <th></th>\n",
       "      <th>Name</th>\n",
       "      <th>Department</th>\n",
       "      <th>AnnualSalary</th>\n",
       "      <th>JoiningDate</th>\n",
       "      <th>Bonus</th>\n",
       "    </tr>\n",
       "  </thead>\n",
       "  <tbody>\n",
       "    <tr>\n",
       "      <th>0</th>\n",
       "      <td>Alice</td>\n",
       "      <td>HR</td>\n",
       "      <td>50000</td>\n",
       "      <td>2020-01-10</td>\n",
       "      <td>5000.0</td>\n",
       "    </tr>\n",
       "    <tr>\n",
       "      <th>1</th>\n",
       "      <td>Bob</td>\n",
       "      <td>Finance</td>\n",
       "      <td>60000</td>\n",
       "      <td>2019-06-25</td>\n",
       "      <td>6000.0</td>\n",
       "    </tr>\n",
       "    <tr>\n",
       "      <th>2</th>\n",
       "      <td>Charlie</td>\n",
       "      <td>HR</td>\n",
       "      <td>55000</td>\n",
       "      <td>2021-03-15</td>\n",
       "      <td>0.0</td>\n",
       "    </tr>\n",
       "    <tr>\n",
       "      <th>3</th>\n",
       "      <td>David</td>\n",
       "      <td>IT</td>\n",
       "      <td>70000</td>\n",
       "      <td>2018-07-01</td>\n",
       "      <td>7000.0</td>\n",
       "    </tr>\n",
       "    <tr>\n",
       "      <th>4</th>\n",
       "      <td>Eva</td>\n",
       "      <td>Finance</td>\n",
       "      <td>62000</td>\n",
       "      <td>2022-02-20</td>\n",
       "      <td>6200.0</td>\n",
       "    </tr>\n",
       "  </tbody>\n",
       "</table>\n",
       "</div>"
      ],
      "text/plain": [
       "      Name Department  AnnualSalary JoiningDate   Bonus\n",
       "0    Alice         HR         50000  2020-01-10  5000.0\n",
       "1      Bob    Finance         60000  2019-06-25  6000.0\n",
       "2  Charlie         HR         55000  2021-03-15     0.0\n",
       "3    David         IT         70000  2018-07-01  7000.0\n",
       "4      Eva    Finance         62000  2022-02-20  6200.0"
      ]
     },
     "execution_count": 25,
     "metadata": {},
     "output_type": "execute_result"
    }
   ],
   "source": [
    "df.loc[2, \"Bonus\"] = None #updated 3rd row on Bonus Column with None Value\n",
    "df.isnull()\n",
    "#query - update employee set Bonus = 0 where Bonus is Null\n",
    "df[\"Bonus\"].fillna(0, inplace=True)\n",
    "df"
   ]
  },
  {
   "cell_type": "markdown",
   "metadata": {},
   "source": [
    "## Apply Function"
   ]
  },
  {
   "cell_type": "code",
   "execution_count": null,
   "metadata": {},
   "outputs": [],
   "source": [
    "#query - update Employee set SalaryGrade = case AnnualSalary > 60000 return \"High\" else \"Medium\"\n",
    "df[\"SalaryGrade\"] = df[\"AnnualSalary\"].apply(lambda x: \"High\" if x > 60000 else \"Medium\")"
   ]
  },
  {
   "cell_type": "code",
   "execution_count": 27,
   "id": "3b2baefe",
   "metadata": {},
   "outputs": [
    {
     "data": {
      "application/vnd.microsoft.datawrangler.viewer.v0+json": {
       "columns": [
        {
         "name": "index",
         "rawType": "int64",
         "type": "integer"
        },
        {
         "name": "Name",
         "rawType": "object",
         "type": "string"
        },
        {
         "name": "Department",
         "rawType": "object",
         "type": "string"
        },
        {
         "name": "AnnualSalary",
         "rawType": "int64",
         "type": "integer"
        },
        {
         "name": "JoiningDate",
         "rawType": "datetime64[ns]",
         "type": "datetime"
        },
        {
         "name": "Bonus",
         "rawType": "float64",
         "type": "float"
        },
        {
         "name": "SalaryGrade",
         "rawType": "object",
         "type": "string"
        }
       ],
       "conversionMethod": "pd.DataFrame",
       "ref": "4abcf031-d880-4d8a-b726-d950cae0c257",
       "rows": [
        [
         "0",
         "Alice",
         "HR",
         "50000",
         "2020-01-10 00:00:00",
         "5000.0",
         "Medium"
        ],
        [
         "1",
         "Bob",
         "Finance",
         "60000",
         "2019-06-25 00:00:00",
         "6000.0",
         "Medium"
        ],
        [
         "2",
         "Charlie",
         "HR",
         "55000",
         "2021-03-15 00:00:00",
         "0.0",
         "Medium"
        ],
        [
         "3",
         "David",
         "IT",
         "70000",
         "2018-07-01 00:00:00",
         "7000.0",
         "High"
        ],
        [
         "4",
         "Eva",
         "Finance",
         "62000",
         "2022-02-20 00:00:00",
         "6200.0",
         "High"
        ]
       ],
       "shape": {
        "columns": 6,
        "rows": 5
       }
      },
      "text/html": [
       "<div>\n",
       "<style scoped>\n",
       "    .dataframe tbody tr th:only-of-type {\n",
       "        vertical-align: middle;\n",
       "    }\n",
       "\n",
       "    .dataframe tbody tr th {\n",
       "        vertical-align: top;\n",
       "    }\n",
       "\n",
       "    .dataframe thead th {\n",
       "        text-align: right;\n",
       "    }\n",
       "</style>\n",
       "<table border=\"1\" class=\"dataframe\">\n",
       "  <thead>\n",
       "    <tr style=\"text-align: right;\">\n",
       "      <th></th>\n",
       "      <th>Name</th>\n",
       "      <th>Department</th>\n",
       "      <th>AnnualSalary</th>\n",
       "      <th>JoiningDate</th>\n",
       "      <th>Bonus</th>\n",
       "      <th>SalaryGrade</th>\n",
       "    </tr>\n",
       "  </thead>\n",
       "  <tbody>\n",
       "    <tr>\n",
       "      <th>0</th>\n",
       "      <td>Alice</td>\n",
       "      <td>HR</td>\n",
       "      <td>50000</td>\n",
       "      <td>2020-01-10</td>\n",
       "      <td>5000.0</td>\n",
       "      <td>Medium</td>\n",
       "    </tr>\n",
       "    <tr>\n",
       "      <th>1</th>\n",
       "      <td>Bob</td>\n",
       "      <td>Finance</td>\n",
       "      <td>60000</td>\n",
       "      <td>2019-06-25</td>\n",
       "      <td>6000.0</td>\n",
       "      <td>Medium</td>\n",
       "    </tr>\n",
       "    <tr>\n",
       "      <th>2</th>\n",
       "      <td>Charlie</td>\n",
       "      <td>HR</td>\n",
       "      <td>55000</td>\n",
       "      <td>2021-03-15</td>\n",
       "      <td>0.0</td>\n",
       "      <td>Medium</td>\n",
       "    </tr>\n",
       "    <tr>\n",
       "      <th>3</th>\n",
       "      <td>David</td>\n",
       "      <td>IT</td>\n",
       "      <td>70000</td>\n",
       "      <td>2018-07-01</td>\n",
       "      <td>7000.0</td>\n",
       "      <td>High</td>\n",
       "    </tr>\n",
       "    <tr>\n",
       "      <th>4</th>\n",
       "      <td>Eva</td>\n",
       "      <td>Finance</td>\n",
       "      <td>62000</td>\n",
       "      <td>2022-02-20</td>\n",
       "      <td>6200.0</td>\n",
       "      <td>High</td>\n",
       "    </tr>\n",
       "  </tbody>\n",
       "</table>\n",
       "</div>"
      ],
      "text/plain": [
       "      Name Department  AnnualSalary JoiningDate   Bonus SalaryGrade\n",
       "0    Alice         HR         50000  2020-01-10  5000.0      Medium\n",
       "1      Bob    Finance         60000  2019-06-25  6000.0      Medium\n",
       "2  Charlie         HR         55000  2021-03-15     0.0      Medium\n",
       "3    David         IT         70000  2018-07-01  7000.0        High\n",
       "4      Eva    Finance         62000  2022-02-20  6200.0        High"
      ]
     },
     "execution_count": 27,
     "metadata": {},
     "output_type": "execute_result"
    }
   ],
   "source": [
    "df"
   ]
  },
  {
   "cell_type": "markdown",
   "metadata": {},
   "source": [
    "## Merging and Joining"
   ]
  },
  {
   "cell_type": "code",
   "execution_count": 29,
   "metadata": {},
   "outputs": [
    {
     "data": {
      "application/vnd.microsoft.datawrangler.viewer.v0+json": {
       "columns": [
        {
         "name": "index",
         "rawType": "int64",
         "type": "integer"
        },
        {
         "name": "Name",
         "rawType": "object",
         "type": "string"
        },
        {
         "name": "Department",
         "rawType": "object",
         "type": "string"
        },
        {
         "name": "AnnualSalary",
         "rawType": "int64",
         "type": "integer"
        },
        {
         "name": "JoiningDate",
         "rawType": "datetime64[ns]",
         "type": "datetime"
        },
        {
         "name": "Bonus",
         "rawType": "float64",
         "type": "float"
        },
        {
         "name": "SalaryGrade",
         "rawType": "object",
         "type": "string"
        },
        {
         "name": "Manager",
         "rawType": "object",
         "type": "string"
        }
       ],
       "conversionMethod": "pd.DataFrame",
       "ref": "659b0b65-65a5-40aa-90b7-a02ab0240eb9",
       "rows": [
        [
         "0",
         "Alice",
         "HR",
         "50000",
         "2020-01-10 00:00:00",
         "5000.0",
         "Medium",
         "John"
        ],
        [
         "1",
         "Bob",
         "Finance",
         "60000",
         "2019-06-25 00:00:00",
         "6000.0",
         "Medium",
         "Amy"
        ],
        [
         "2",
         "Charlie",
         "HR",
         "55000",
         "2021-03-15 00:00:00",
         "0.0",
         "Medium",
         "John"
        ],
        [
         "3",
         "David",
         "IT",
         "70000",
         "2018-07-01 00:00:00",
         "7000.0",
         "High",
         "Raj"
        ],
        [
         "4",
         "Eva",
         "Finance",
         "62000",
         "2022-02-20 00:00:00",
         "6200.0",
         "High",
         "Amy"
        ]
       ],
       "shape": {
        "columns": 7,
        "rows": 5
       }
      },
      "text/html": [
       "<div>\n",
       "<style scoped>\n",
       "    .dataframe tbody tr th:only-of-type {\n",
       "        vertical-align: middle;\n",
       "    }\n",
       "\n",
       "    .dataframe tbody tr th {\n",
       "        vertical-align: top;\n",
       "    }\n",
       "\n",
       "    .dataframe thead th {\n",
       "        text-align: right;\n",
       "    }\n",
       "</style>\n",
       "<table border=\"1\" class=\"dataframe\">\n",
       "  <thead>\n",
       "    <tr style=\"text-align: right;\">\n",
       "      <th></th>\n",
       "      <th>Name</th>\n",
       "      <th>Department</th>\n",
       "      <th>AnnualSalary</th>\n",
       "      <th>JoiningDate</th>\n",
       "      <th>Bonus</th>\n",
       "      <th>SalaryGrade</th>\n",
       "      <th>Manager</th>\n",
       "    </tr>\n",
       "  </thead>\n",
       "  <tbody>\n",
       "    <tr>\n",
       "      <th>0</th>\n",
       "      <td>Alice</td>\n",
       "      <td>HR</td>\n",
       "      <td>50000</td>\n",
       "      <td>2020-01-10</td>\n",
       "      <td>5000.0</td>\n",
       "      <td>Medium</td>\n",
       "      <td>John</td>\n",
       "    </tr>\n",
       "    <tr>\n",
       "      <th>1</th>\n",
       "      <td>Bob</td>\n",
       "      <td>Finance</td>\n",
       "      <td>60000</td>\n",
       "      <td>2019-06-25</td>\n",
       "      <td>6000.0</td>\n",
       "      <td>Medium</td>\n",
       "      <td>Amy</td>\n",
       "    </tr>\n",
       "    <tr>\n",
       "      <th>2</th>\n",
       "      <td>Charlie</td>\n",
       "      <td>HR</td>\n",
       "      <td>55000</td>\n",
       "      <td>2021-03-15</td>\n",
       "      <td>0.0</td>\n",
       "      <td>Medium</td>\n",
       "      <td>John</td>\n",
       "    </tr>\n",
       "    <tr>\n",
       "      <th>3</th>\n",
       "      <td>David</td>\n",
       "      <td>IT</td>\n",
       "      <td>70000</td>\n",
       "      <td>2018-07-01</td>\n",
       "      <td>7000.0</td>\n",
       "      <td>High</td>\n",
       "      <td>Raj</td>\n",
       "    </tr>\n",
       "    <tr>\n",
       "      <th>4</th>\n",
       "      <td>Eva</td>\n",
       "      <td>Finance</td>\n",
       "      <td>62000</td>\n",
       "      <td>2022-02-20</td>\n",
       "      <td>6200.0</td>\n",
       "      <td>High</td>\n",
       "      <td>Amy</td>\n",
       "    </tr>\n",
       "  </tbody>\n",
       "</table>\n",
       "</div>"
      ],
      "text/plain": [
       "      Name Department  AnnualSalary JoiningDate   Bonus SalaryGrade Manager\n",
       "0    Alice         HR         50000  2020-01-10  5000.0      Medium    John\n",
       "1      Bob    Finance         60000  2019-06-25  6000.0      Medium     Amy\n",
       "2  Charlie         HR         55000  2021-03-15     0.0      Medium    John\n",
       "3    David         IT         70000  2018-07-01  7000.0        High     Raj\n",
       "4      Eva    Finance         62000  2022-02-20  6200.0        High     Amy"
      ]
     },
     "execution_count": 29,
     "metadata": {},
     "output_type": "execute_result"
    }
   ],
   "source": [
    "#consider employee, department_manager\n",
    "# select * , dm.manager from employee \n",
    "# left join department_manager dm on employee.department = department_manager.department\n",
    "dept_info = pd.DataFrame({\n",
    "    \"Department\": [\"HR\", \"Finance\", \"IT\"],\n",
    "    \"Manager\": [\"John\", \"Amy\", \"Raj\"]\n",
    "})\n",
    "\n",
    "df1 = pd.merge(df, dept_info, on=\"Department\", how=\"left\")\n",
    "df1"
   ]
  },
  {
   "cell_type": "markdown",
   "metadata": {},
   "source": [
    "## Pivot Table"
   ]
  },
  {
   "cell_type": "code",
   "execution_count": 30,
   "metadata": {},
   "outputs": [
    {
     "data": {
      "application/vnd.microsoft.datawrangler.viewer.v0+json": {
       "columns": [
        {
         "name": "Department",
         "rawType": "object",
         "type": "string"
        },
        {
         "name": "AnnualSalary",
         "rawType": "float64",
         "type": "float"
        }
       ],
       "conversionMethod": "pd.DataFrame",
       "ref": "032333c1-9f53-4635-87ae-68555ad13d2d",
       "rows": [
        [
         "Finance",
         "61000.0"
        ],
        [
         "HR",
         "52500.0"
        ],
        [
         "IT",
         "70000.0"
        ]
       ],
       "shape": {
        "columns": 1,
        "rows": 3
       }
      },
      "text/html": [
       "<div>\n",
       "<style scoped>\n",
       "    .dataframe tbody tr th:only-of-type {\n",
       "        vertical-align: middle;\n",
       "    }\n",
       "\n",
       "    .dataframe tbody tr th {\n",
       "        vertical-align: top;\n",
       "    }\n",
       "\n",
       "    .dataframe thead th {\n",
       "        text-align: right;\n",
       "    }\n",
       "</style>\n",
       "<table border=\"1\" class=\"dataframe\">\n",
       "  <thead>\n",
       "    <tr style=\"text-align: right;\">\n",
       "      <th></th>\n",
       "      <th>AnnualSalary</th>\n",
       "    </tr>\n",
       "    <tr>\n",
       "      <th>Department</th>\n",
       "      <th></th>\n",
       "    </tr>\n",
       "  </thead>\n",
       "  <tbody>\n",
       "    <tr>\n",
       "      <th>Finance</th>\n",
       "      <td>61000.0</td>\n",
       "    </tr>\n",
       "    <tr>\n",
       "      <th>HR</th>\n",
       "      <td>52500.0</td>\n",
       "    </tr>\n",
       "    <tr>\n",
       "      <th>IT</th>\n",
       "      <td>70000.0</td>\n",
       "    </tr>\n",
       "  </tbody>\n",
       "</table>\n",
       "</div>"
      ],
      "text/plain": [
       "            AnnualSalary\n",
       "Department              \n",
       "Finance          61000.0\n",
       "HR               52500.0\n",
       "IT               70000.0"
      ]
     },
     "execution_count": 30,
     "metadata": {},
     "output_type": "execute_result"
    }
   ],
   "source": [
    "pd.pivot_table(df, values=\"AnnualSalary\", index=\"Department\", aggfunc=\"mean\")"
   ]
  },
  {
   "cell_type": "markdown",
   "metadata": {},
   "source": [
    "## Datetime Operations"
   ]
  },
  {
   "cell_type": "code",
   "execution_count": 32,
   "metadata": {},
   "outputs": [
    {
     "data": {
      "application/vnd.microsoft.datawrangler.viewer.v0+json": {
       "columns": [
        {
         "name": "index",
         "rawType": "int64",
         "type": "integer"
        },
        {
         "name": "Name",
         "rawType": "object",
         "type": "string"
        },
        {
         "name": "Department",
         "rawType": "object",
         "type": "string"
        },
        {
         "name": "AnnualSalary",
         "rawType": "int64",
         "type": "integer"
        },
        {
         "name": "JoiningDate",
         "rawType": "datetime64[ns]",
         "type": "datetime"
        },
        {
         "name": "Bonus",
         "rawType": "float64",
         "type": "float"
        },
        {
         "name": "SalaryGrade",
         "rawType": "object",
         "type": "string"
        },
        {
         "name": "JoiningYear",
         "rawType": "int32",
         "type": "integer"
        }
       ],
       "conversionMethod": "pd.DataFrame",
       "ref": "3974e7be-b704-40b0-a16c-801defdefc75",
       "rows": [
        [
         "0",
         "Alice",
         "HR",
         "50000",
         "2020-01-10 00:00:00",
         "5000.0",
         "Medium",
         "2020"
        ],
        [
         "1",
         "Bob",
         "Finance",
         "60000",
         "2019-06-25 00:00:00",
         "6000.0",
         "Medium",
         "2019"
        ],
        [
         "2",
         "Charlie",
         "HR",
         "55000",
         "2021-03-15 00:00:00",
         "0.0",
         "Medium",
         "2021"
        ],
        [
         "3",
         "David",
         "IT",
         "70000",
         "2018-07-01 00:00:00",
         "7000.0",
         "High",
         "2018"
        ],
        [
         "4",
         "Eva",
         "Finance",
         "62000",
         "2022-02-20 00:00:00",
         "6200.0",
         "High",
         "2022"
        ]
       ],
       "shape": {
        "columns": 7,
        "rows": 5
       }
      },
      "text/html": [
       "<div>\n",
       "<style scoped>\n",
       "    .dataframe tbody tr th:only-of-type {\n",
       "        vertical-align: middle;\n",
       "    }\n",
       "\n",
       "    .dataframe tbody tr th {\n",
       "        vertical-align: top;\n",
       "    }\n",
       "\n",
       "    .dataframe thead th {\n",
       "        text-align: right;\n",
       "    }\n",
       "</style>\n",
       "<table border=\"1\" class=\"dataframe\">\n",
       "  <thead>\n",
       "    <tr style=\"text-align: right;\">\n",
       "      <th></th>\n",
       "      <th>Name</th>\n",
       "      <th>Department</th>\n",
       "      <th>AnnualSalary</th>\n",
       "      <th>JoiningDate</th>\n",
       "      <th>Bonus</th>\n",
       "      <th>SalaryGrade</th>\n",
       "      <th>JoiningYear</th>\n",
       "    </tr>\n",
       "  </thead>\n",
       "  <tbody>\n",
       "    <tr>\n",
       "      <th>0</th>\n",
       "      <td>Alice</td>\n",
       "      <td>HR</td>\n",
       "      <td>50000</td>\n",
       "      <td>2020-01-10</td>\n",
       "      <td>5000.0</td>\n",
       "      <td>Medium</td>\n",
       "      <td>2020</td>\n",
       "    </tr>\n",
       "    <tr>\n",
       "      <th>1</th>\n",
       "      <td>Bob</td>\n",
       "      <td>Finance</td>\n",
       "      <td>60000</td>\n",
       "      <td>2019-06-25</td>\n",
       "      <td>6000.0</td>\n",
       "      <td>Medium</td>\n",
       "      <td>2019</td>\n",
       "    </tr>\n",
       "    <tr>\n",
       "      <th>2</th>\n",
       "      <td>Charlie</td>\n",
       "      <td>HR</td>\n",
       "      <td>55000</td>\n",
       "      <td>2021-03-15</td>\n",
       "      <td>0.0</td>\n",
       "      <td>Medium</td>\n",
       "      <td>2021</td>\n",
       "    </tr>\n",
       "    <tr>\n",
       "      <th>3</th>\n",
       "      <td>David</td>\n",
       "      <td>IT</td>\n",
       "      <td>70000</td>\n",
       "      <td>2018-07-01</td>\n",
       "      <td>7000.0</td>\n",
       "      <td>High</td>\n",
       "      <td>2018</td>\n",
       "    </tr>\n",
       "    <tr>\n",
       "      <th>4</th>\n",
       "      <td>Eva</td>\n",
       "      <td>Finance</td>\n",
       "      <td>62000</td>\n",
       "      <td>2022-02-20</td>\n",
       "      <td>6200.0</td>\n",
       "      <td>High</td>\n",
       "      <td>2022</td>\n",
       "    </tr>\n",
       "  </tbody>\n",
       "</table>\n",
       "</div>"
      ],
      "text/plain": [
       "      Name Department  AnnualSalary JoiningDate   Bonus SalaryGrade  \\\n",
       "0    Alice         HR         50000  2020-01-10  5000.0      Medium   \n",
       "1      Bob    Finance         60000  2019-06-25  6000.0      Medium   \n",
       "2  Charlie         HR         55000  2021-03-15     0.0      Medium   \n",
       "3    David         IT         70000  2018-07-01  7000.0        High   \n",
       "4      Eva    Finance         62000  2022-02-20  6200.0        High   \n",
       "\n",
       "   JoiningYear  \n",
       "0         2020  \n",
       "1         2019  \n",
       "2         2021  \n",
       "3         2018  \n",
       "4         2022  "
      ]
     },
     "execution_count": 32,
     "metadata": {},
     "output_type": "execute_result"
    }
   ],
   "source": [
    "df[\"JoiningYear\"] = df[\"JoiningDate\"].dt.year\n",
    "#todo joiningyear-month \n",
    "df"
   ]
  },
  {
   "cell_type": "markdown",
   "metadata": {},
   "source": [
    "## Export to CSV"
   ]
  },
  {
   "cell_type": "code",
   "execution_count": 33,
   "metadata": {},
   "outputs": [],
   "source": [
    "df.to_csv(\"final_employee_data.csv\", index=False)"
   ]
  },
  {
   "cell_type": "markdown",
   "metadata": {},
   "source": [
    "## Complex Use Cases in Data Manipulation"
   ]
  },
  {
   "cell_type": "markdown",
   "metadata": {},
   "source": [
    "### Conditional Column Creation with Multiple Conditions"
   ]
  },
  {
   "cell_type": "code",
   "execution_count": 34,
   "metadata": {},
   "outputs": [
    {
     "data": {
      "application/vnd.microsoft.datawrangler.viewer.v0+json": {
       "columns": [
        {
         "name": "index",
         "rawType": "int64",
         "type": "integer"
        },
        {
         "name": "Name",
         "rawType": "object",
         "type": "string"
        },
        {
         "name": "Department",
         "rawType": "object",
         "type": "string"
        },
        {
         "name": "AnnualSalary",
         "rawType": "int64",
         "type": "integer"
        },
        {
         "name": "JoiningDate",
         "rawType": "datetime64[ns]",
         "type": "datetime"
        },
        {
         "name": "Bonus",
         "rawType": "float64",
         "type": "float"
        },
        {
         "name": "SalaryGrade",
         "rawType": "object",
         "type": "string"
        },
        {
         "name": "JoiningYear",
         "rawType": "int32",
         "type": "integer"
        },
        {
         "name": "PerformanceLevel",
         "rawType": "object",
         "type": "string"
        }
       ],
       "conversionMethod": "pd.DataFrame",
       "ref": "d30fde3a-cccf-4263-9018-1e24039e6b5a",
       "rows": [
        [
         "0",
         "Alice",
         "HR",
         "50000",
         "2020-01-10 00:00:00",
         "5000.0",
         "Medium",
         "2020",
         "Average"
        ],
        [
         "1",
         "Bob",
         "Finance",
         "60000",
         "2019-06-25 00:00:00",
         "6000.0",
         "Medium",
         "2019",
         "Good"
        ],
        [
         "2",
         "Charlie",
         "HR",
         "55000",
         "2021-03-15 00:00:00",
         "0.0",
         "Medium",
         "2021",
         "Average"
        ],
        [
         "3",
         "David",
         "IT",
         "70000",
         "2018-07-01 00:00:00",
         "7000.0",
         "High",
         "2018",
         "Excellent"
        ],
        [
         "4",
         "Eva",
         "Finance",
         "62000",
         "2022-02-20 00:00:00",
         "6200.0",
         "High",
         "2022",
         "Good"
        ]
       ],
       "shape": {
        "columns": 8,
        "rows": 5
       }
      },
      "text/html": [
       "<div>\n",
       "<style scoped>\n",
       "    .dataframe tbody tr th:only-of-type {\n",
       "        vertical-align: middle;\n",
       "    }\n",
       "\n",
       "    .dataframe tbody tr th {\n",
       "        vertical-align: top;\n",
       "    }\n",
       "\n",
       "    .dataframe thead th {\n",
       "        text-align: right;\n",
       "    }\n",
       "</style>\n",
       "<table border=\"1\" class=\"dataframe\">\n",
       "  <thead>\n",
       "    <tr style=\"text-align: right;\">\n",
       "      <th></th>\n",
       "      <th>Name</th>\n",
       "      <th>Department</th>\n",
       "      <th>AnnualSalary</th>\n",
       "      <th>JoiningDate</th>\n",
       "      <th>Bonus</th>\n",
       "      <th>SalaryGrade</th>\n",
       "      <th>JoiningYear</th>\n",
       "      <th>PerformanceLevel</th>\n",
       "    </tr>\n",
       "  </thead>\n",
       "  <tbody>\n",
       "    <tr>\n",
       "      <th>0</th>\n",
       "      <td>Alice</td>\n",
       "      <td>HR</td>\n",
       "      <td>50000</td>\n",
       "      <td>2020-01-10</td>\n",
       "      <td>5000.0</td>\n",
       "      <td>Medium</td>\n",
       "      <td>2020</td>\n",
       "      <td>Average</td>\n",
       "    </tr>\n",
       "    <tr>\n",
       "      <th>1</th>\n",
       "      <td>Bob</td>\n",
       "      <td>Finance</td>\n",
       "      <td>60000</td>\n",
       "      <td>2019-06-25</td>\n",
       "      <td>6000.0</td>\n",
       "      <td>Medium</td>\n",
       "      <td>2019</td>\n",
       "      <td>Good</td>\n",
       "    </tr>\n",
       "    <tr>\n",
       "      <th>2</th>\n",
       "      <td>Charlie</td>\n",
       "      <td>HR</td>\n",
       "      <td>55000</td>\n",
       "      <td>2021-03-15</td>\n",
       "      <td>0.0</td>\n",
       "      <td>Medium</td>\n",
       "      <td>2021</td>\n",
       "      <td>Average</td>\n",
       "    </tr>\n",
       "    <tr>\n",
       "      <th>3</th>\n",
       "      <td>David</td>\n",
       "      <td>IT</td>\n",
       "      <td>70000</td>\n",
       "      <td>2018-07-01</td>\n",
       "      <td>7000.0</td>\n",
       "      <td>High</td>\n",
       "      <td>2018</td>\n",
       "      <td>Excellent</td>\n",
       "    </tr>\n",
       "    <tr>\n",
       "      <th>4</th>\n",
       "      <td>Eva</td>\n",
       "      <td>Finance</td>\n",
       "      <td>62000</td>\n",
       "      <td>2022-02-20</td>\n",
       "      <td>6200.0</td>\n",
       "      <td>High</td>\n",
       "      <td>2022</td>\n",
       "      <td>Good</td>\n",
       "    </tr>\n",
       "  </tbody>\n",
       "</table>\n",
       "</div>"
      ],
      "text/plain": [
       "      Name Department  AnnualSalary JoiningDate   Bonus SalaryGrade  \\\n",
       "0    Alice         HR         50000  2020-01-10  5000.0      Medium   \n",
       "1      Bob    Finance         60000  2019-06-25  6000.0      Medium   \n",
       "2  Charlie         HR         55000  2021-03-15     0.0      Medium   \n",
       "3    David         IT         70000  2018-07-01  7000.0        High   \n",
       "4      Eva    Finance         62000  2022-02-20  6200.0        High   \n",
       "\n",
       "   JoiningYear PerformanceLevel  \n",
       "0         2020          Average  \n",
       "1         2019             Good  \n",
       "2         2021          Average  \n",
       "3         2018        Excellent  \n",
       "4         2022             Good  "
      ]
     },
     "execution_count": 34,
     "metadata": {},
     "output_type": "execute_result"
    }
   ],
   "source": [
    "import numpy as np\n",
    "\n",
    "# Add a column 'PerformanceLevel' based on salary and department\n",
    "df[\"PerformanceLevel\"] = np.where(\n",
    "    (df[\"AnnualSalary\"] > 60000) & (df[\"Department\"] == \"IT\"),\n",
    "    \"Excellent\",\n",
    "    np.where(df[\"AnnualSalary\"] > 55000, \"Good\", \"Average\")\n",
    ")\n",
    "df\n",
    "\n",
    "\n",
    "# if annualsalary > 60000 and department == \"IT\":\n",
    "#   return \"Excellent\"\n",
    "# else:\n",
    "    # if annualsalary > 55000: return \"Good\"\n",
    "    # else return \"Average\""
   ]
  },
  {
   "cell_type": "markdown",
   "metadata": {},
   "source": [
    "### Reshape with `melt()` and `pivot()`"
   ]
  },
  {
   "cell_type": "code",
   "execution_count": 36,
   "metadata": {},
   "outputs": [
    {
     "data": {
      "application/vnd.microsoft.datawrangler.viewer.v0+json": {
       "columns": [
        {
         "name": "index",
         "rawType": "int64",
         "type": "integer"
        },
        {
         "name": "Name",
         "rawType": "object",
         "type": "string"
        },
        {
         "name": "Department",
         "rawType": "object",
         "type": "string"
        },
        {
         "name": "AnnualSalary",
         "rawType": "float64",
         "type": "float"
        },
        {
         "name": "Bonus",
         "rawType": "float64",
         "type": "float"
        }
       ],
       "conversionMethod": "pd.DataFrame",
       "ref": "6e724341-0eab-4dc8-8805-b1fae58ddcf7",
       "rows": [
        [
         "0",
         "Alice",
         "HR",
         "50000.0",
         "5000.0"
        ],
        [
         "1",
         "Bob",
         "Finance",
         "60000.0",
         "6000.0"
        ],
        [
         "2",
         "Charlie",
         "HR",
         "55000.0",
         "0.0"
        ],
        [
         "3",
         "David",
         "IT",
         "70000.0",
         "7000.0"
        ],
        [
         "4",
         "Eva",
         "Finance",
         "62000.0",
         "6200.0"
        ]
       ],
       "shape": {
        "columns": 4,
        "rows": 5
       }
      },
      "text/html": [
       "<div>\n",
       "<style scoped>\n",
       "    .dataframe tbody tr th:only-of-type {\n",
       "        vertical-align: middle;\n",
       "    }\n",
       "\n",
       "    .dataframe tbody tr th {\n",
       "        vertical-align: top;\n",
       "    }\n",
       "\n",
       "    .dataframe thead th {\n",
       "        text-align: right;\n",
       "    }\n",
       "</style>\n",
       "<table border=\"1\" class=\"dataframe\">\n",
       "  <thead>\n",
       "    <tr style=\"text-align: right;\">\n",
       "      <th>Metric</th>\n",
       "      <th>Name</th>\n",
       "      <th>Department</th>\n",
       "      <th>AnnualSalary</th>\n",
       "      <th>Bonus</th>\n",
       "    </tr>\n",
       "  </thead>\n",
       "  <tbody>\n",
       "    <tr>\n",
       "      <th>0</th>\n",
       "      <td>Alice</td>\n",
       "      <td>HR</td>\n",
       "      <td>50000.0</td>\n",
       "      <td>5000.0</td>\n",
       "    </tr>\n",
       "    <tr>\n",
       "      <th>1</th>\n",
       "      <td>Bob</td>\n",
       "      <td>Finance</td>\n",
       "      <td>60000.0</td>\n",
       "      <td>6000.0</td>\n",
       "    </tr>\n",
       "    <tr>\n",
       "      <th>2</th>\n",
       "      <td>Charlie</td>\n",
       "      <td>HR</td>\n",
       "      <td>55000.0</td>\n",
       "      <td>0.0</td>\n",
       "    </tr>\n",
       "    <tr>\n",
       "      <th>3</th>\n",
       "      <td>David</td>\n",
       "      <td>IT</td>\n",
       "      <td>70000.0</td>\n",
       "      <td>7000.0</td>\n",
       "    </tr>\n",
       "    <tr>\n",
       "      <th>4</th>\n",
       "      <td>Eva</td>\n",
       "      <td>Finance</td>\n",
       "      <td>62000.0</td>\n",
       "      <td>6200.0</td>\n",
       "    </tr>\n",
       "  </tbody>\n",
       "</table>\n",
       "</div>"
      ],
      "text/plain": [
       "Metric     Name Department  AnnualSalary   Bonus\n",
       "0         Alice         HR       50000.0  5000.0\n",
       "1           Bob    Finance       60000.0  6000.0\n",
       "2       Charlie         HR       55000.0     0.0\n",
       "3         David         IT       70000.0  7000.0\n",
       "4           Eva    Finance       62000.0  6200.0"
      ]
     },
     "execution_count": 36,
     "metadata": {},
     "output_type": "execute_result"
    }
   ],
   "source": [
    "# Melt the DataFrame to long format\n",
    "df_melted = pd.melt(df, id_vars=[\"Name\", \"Department\"], value_vars=[\"AnnualSalary\", \"Bonus\"], var_name=\"Metric\", value_name=\"Value\")\n",
    "df_melted.head()\n",
    "\n",
    "# Pivot back to wide format\n",
    "df_pivoted = df_melted.pivot_table(index=[\"Name\", \"Department\"], columns=\"Metric\", values=\"Value\").reset_index()\n",
    "df_pivoted"
   ]
  },
  {
   "cell_type": "markdown",
   "metadata": {},
   "source": [
    "### Window Functions (`rolling`, `expanding`)"
   ]
  },
  {
   "cell_type": "code",
   "execution_count": 39,
   "metadata": {},
   "outputs": [
    {
     "data": {
      "application/vnd.microsoft.datawrangler.viewer.v0+json": {
       "columns": [
        {
         "name": "index",
         "rawType": "int64",
         "type": "integer"
        },
        {
         "name": "Name",
         "rawType": "object",
         "type": "string"
        },
        {
         "name": "Department",
         "rawType": "object",
         "type": "string"
        },
        {
         "name": "AnnualSalary",
         "rawType": "int64",
         "type": "integer"
        },
        {
         "name": "JoiningDate",
         "rawType": "datetime64[ns]",
         "type": "datetime"
        },
        {
         "name": "Bonus",
         "rawType": "float64",
         "type": "float"
        },
        {
         "name": "SalaryGrade",
         "rawType": "object",
         "type": "string"
        },
        {
         "name": "JoiningYear",
         "rawType": "int32",
         "type": "integer"
        },
        {
         "name": "PerformanceLevel",
         "rawType": "object",
         "type": "string"
        },
        {
         "name": "RollingSalaryAvg",
         "rawType": "float64",
         "type": "float"
        },
        {
         "name": "ExpandingSalaryAvg",
         "rawType": "float64",
         "type": "float"
        }
       ],
       "conversionMethod": "pd.DataFrame",
       "ref": "caab6f26-2f8b-4a6b-a615-13bcc1600c3b",
       "rows": [
        [
         "3",
         "David",
         "IT",
         "70000",
         "2018-07-01 00:00:00",
         "7000.0",
         "High",
         "2018",
         "Excellent",
         null,
         "70000.0"
        ],
        [
         "1",
         "Bob",
         "Finance",
         "60000",
         "2019-06-25 00:00:00",
         "6000.0",
         "Medium",
         "2019",
         "Good",
         "65000.0",
         "65000.0"
        ],
        [
         "0",
         "Alice",
         "HR",
         "50000",
         "2020-01-10 00:00:00",
         "5000.0",
         "Medium",
         "2020",
         "Average",
         "55000.0",
         "60000.0"
        ],
        [
         "2",
         "Charlie",
         "HR",
         "55000",
         "2021-03-15 00:00:00",
         "0.0",
         "Medium",
         "2021",
         "Average",
         "52500.0",
         "58750.0"
        ],
        [
         "4",
         "Eva",
         "Finance",
         "62000",
         "2022-02-20 00:00:00",
         "6200.0",
         "High",
         "2022",
         "Good",
         "58500.0",
         "59400.0"
        ]
       ],
       "shape": {
        "columns": 10,
        "rows": 5
       }
      },
      "text/html": [
       "<div>\n",
       "<style scoped>\n",
       "    .dataframe tbody tr th:only-of-type {\n",
       "        vertical-align: middle;\n",
       "    }\n",
       "\n",
       "    .dataframe tbody tr th {\n",
       "        vertical-align: top;\n",
       "    }\n",
       "\n",
       "    .dataframe thead th {\n",
       "        text-align: right;\n",
       "    }\n",
       "</style>\n",
       "<table border=\"1\" class=\"dataframe\">\n",
       "  <thead>\n",
       "    <tr style=\"text-align: right;\">\n",
       "      <th></th>\n",
       "      <th>Name</th>\n",
       "      <th>Department</th>\n",
       "      <th>AnnualSalary</th>\n",
       "      <th>JoiningDate</th>\n",
       "      <th>Bonus</th>\n",
       "      <th>SalaryGrade</th>\n",
       "      <th>JoiningYear</th>\n",
       "      <th>PerformanceLevel</th>\n",
       "      <th>RollingSalaryAvg</th>\n",
       "      <th>ExpandingSalaryAvg</th>\n",
       "    </tr>\n",
       "  </thead>\n",
       "  <tbody>\n",
       "    <tr>\n",
       "      <th>3</th>\n",
       "      <td>David</td>\n",
       "      <td>IT</td>\n",
       "      <td>70000</td>\n",
       "      <td>2018-07-01</td>\n",
       "      <td>7000.0</td>\n",
       "      <td>High</td>\n",
       "      <td>2018</td>\n",
       "      <td>Excellent</td>\n",
       "      <td>NaN</td>\n",
       "      <td>70000.0</td>\n",
       "    </tr>\n",
       "    <tr>\n",
       "      <th>1</th>\n",
       "      <td>Bob</td>\n",
       "      <td>Finance</td>\n",
       "      <td>60000</td>\n",
       "      <td>2019-06-25</td>\n",
       "      <td>6000.0</td>\n",
       "      <td>Medium</td>\n",
       "      <td>2019</td>\n",
       "      <td>Good</td>\n",
       "      <td>65000.0</td>\n",
       "      <td>65000.0</td>\n",
       "    </tr>\n",
       "    <tr>\n",
       "      <th>0</th>\n",
       "      <td>Alice</td>\n",
       "      <td>HR</td>\n",
       "      <td>50000</td>\n",
       "      <td>2020-01-10</td>\n",
       "      <td>5000.0</td>\n",
       "      <td>Medium</td>\n",
       "      <td>2020</td>\n",
       "      <td>Average</td>\n",
       "      <td>55000.0</td>\n",
       "      <td>60000.0</td>\n",
       "    </tr>\n",
       "    <tr>\n",
       "      <th>2</th>\n",
       "      <td>Charlie</td>\n",
       "      <td>HR</td>\n",
       "      <td>55000</td>\n",
       "      <td>2021-03-15</td>\n",
       "      <td>0.0</td>\n",
       "      <td>Medium</td>\n",
       "      <td>2021</td>\n",
       "      <td>Average</td>\n",
       "      <td>52500.0</td>\n",
       "      <td>58750.0</td>\n",
       "    </tr>\n",
       "    <tr>\n",
       "      <th>4</th>\n",
       "      <td>Eva</td>\n",
       "      <td>Finance</td>\n",
       "      <td>62000</td>\n",
       "      <td>2022-02-20</td>\n",
       "      <td>6200.0</td>\n",
       "      <td>High</td>\n",
       "      <td>2022</td>\n",
       "      <td>Good</td>\n",
       "      <td>58500.0</td>\n",
       "      <td>59400.0</td>\n",
       "    </tr>\n",
       "  </tbody>\n",
       "</table>\n",
       "</div>"
      ],
      "text/plain": [
       "      Name Department  AnnualSalary JoiningDate   Bonus SalaryGrade  \\\n",
       "3    David         IT         70000  2018-07-01  7000.0        High   \n",
       "1      Bob    Finance         60000  2019-06-25  6000.0      Medium   \n",
       "0    Alice         HR         50000  2020-01-10  5000.0      Medium   \n",
       "2  Charlie         HR         55000  2021-03-15     0.0      Medium   \n",
       "4      Eva    Finance         62000  2022-02-20  6200.0        High   \n",
       "\n",
       "   JoiningYear PerformanceLevel  RollingSalaryAvg  ExpandingSalaryAvg  \n",
       "3         2018        Excellent               NaN             70000.0  \n",
       "1         2019             Good           65000.0             65000.0  \n",
       "0         2020          Average           55000.0             60000.0  \n",
       "2         2021          Average           52500.0             58750.0  \n",
       "4         2022             Good           58500.0             59400.0  "
      ]
     },
     "execution_count": 39,
     "metadata": {},
     "output_type": "execute_result"
    }
   ],
   "source": [
    "# Sort by date to apply rolling window\n",
    "df_sorted = df.sort_values(by=\"JoiningDate\")\n",
    "\n",
    "# Rolling average salary (window of 2)\n",
    "df_sorted[\"RollingSalaryAvg\"] = df_sorted[\"AnnualSalary\"].rolling(window=2).mean()\n",
    "\n",
    "# Expanding mean salary\n",
    "df_sorted[\"ExpandingSalaryAvg\"] = df_sorted[\"AnnualSalary\"].expanding().mean()\n",
    "df_sorted"
   ]
  },
  {
   "cell_type": "markdown",
   "metadata": {},
   "source": [
    "### Custom Group-based Operations"
   ]
  },
  {
   "cell_type": "code",
   "execution_count": 40,
   "metadata": {},
   "outputs": [
    {
     "data": {
      "application/vnd.microsoft.datawrangler.viewer.v0+json": {
       "columns": [
        {
         "name": "index",
         "rawType": "int64",
         "type": "integer"
        },
        {
         "name": "Name",
         "rawType": "object",
         "type": "string"
        },
        {
         "name": "Department",
         "rawType": "object",
         "type": "string"
        },
        {
         "name": "AnnualSalary",
         "rawType": "int64",
         "type": "integer"
        },
        {
         "name": "JoiningDate",
         "rawType": "datetime64[ns]",
         "type": "datetime"
        },
        {
         "name": "Bonus",
         "rawType": "float64",
         "type": "float"
        },
        {
         "name": "SalaryGrade",
         "rawType": "object",
         "type": "string"
        },
        {
         "name": "JoiningYear",
         "rawType": "int32",
         "type": "integer"
        },
        {
         "name": "PerformanceLevel",
         "rawType": "object",
         "type": "string"
        },
        {
         "name": "SalaryDiffFromDeptAvg",
         "rawType": "float64",
         "type": "float"
        }
       ],
       "conversionMethod": "pd.DataFrame",
       "ref": "b06ad446-d8b0-41cf-a6be-f74598cdc7a3",
       "rows": [
        [
         "0",
         "Alice",
         "HR",
         "50000",
         "2020-01-10 00:00:00",
         "5000.0",
         "Medium",
         "2020",
         "Average",
         "-2500.0"
        ],
        [
         "1",
         "Bob",
         "Finance",
         "60000",
         "2019-06-25 00:00:00",
         "6000.0",
         "Medium",
         "2019",
         "Good",
         "-1000.0"
        ],
        [
         "2",
         "Charlie",
         "HR",
         "55000",
         "2021-03-15 00:00:00",
         "0.0",
         "Medium",
         "2021",
         "Average",
         "2500.0"
        ],
        [
         "3",
         "David",
         "IT",
         "70000",
         "2018-07-01 00:00:00",
         "7000.0",
         "High",
         "2018",
         "Excellent",
         "0.0"
        ],
        [
         "4",
         "Eva",
         "Finance",
         "62000",
         "2022-02-20 00:00:00",
         "6200.0",
         "High",
         "2022",
         "Good",
         "1000.0"
        ]
       ],
       "shape": {
        "columns": 9,
        "rows": 5
       }
      },
      "text/html": [
       "<div>\n",
       "<style scoped>\n",
       "    .dataframe tbody tr th:only-of-type {\n",
       "        vertical-align: middle;\n",
       "    }\n",
       "\n",
       "    .dataframe tbody tr th {\n",
       "        vertical-align: top;\n",
       "    }\n",
       "\n",
       "    .dataframe thead th {\n",
       "        text-align: right;\n",
       "    }\n",
       "</style>\n",
       "<table border=\"1\" class=\"dataframe\">\n",
       "  <thead>\n",
       "    <tr style=\"text-align: right;\">\n",
       "      <th></th>\n",
       "      <th>Name</th>\n",
       "      <th>Department</th>\n",
       "      <th>AnnualSalary</th>\n",
       "      <th>JoiningDate</th>\n",
       "      <th>Bonus</th>\n",
       "      <th>SalaryGrade</th>\n",
       "      <th>JoiningYear</th>\n",
       "      <th>PerformanceLevel</th>\n",
       "      <th>SalaryDiffFromDeptAvg</th>\n",
       "    </tr>\n",
       "  </thead>\n",
       "  <tbody>\n",
       "    <tr>\n",
       "      <th>0</th>\n",
       "      <td>Alice</td>\n",
       "      <td>HR</td>\n",
       "      <td>50000</td>\n",
       "      <td>2020-01-10</td>\n",
       "      <td>5000.0</td>\n",
       "      <td>Medium</td>\n",
       "      <td>2020</td>\n",
       "      <td>Average</td>\n",
       "      <td>-2500.0</td>\n",
       "    </tr>\n",
       "    <tr>\n",
       "      <th>1</th>\n",
       "      <td>Bob</td>\n",
       "      <td>Finance</td>\n",
       "      <td>60000</td>\n",
       "      <td>2019-06-25</td>\n",
       "      <td>6000.0</td>\n",
       "      <td>Medium</td>\n",
       "      <td>2019</td>\n",
       "      <td>Good</td>\n",
       "      <td>-1000.0</td>\n",
       "    </tr>\n",
       "    <tr>\n",
       "      <th>2</th>\n",
       "      <td>Charlie</td>\n",
       "      <td>HR</td>\n",
       "      <td>55000</td>\n",
       "      <td>2021-03-15</td>\n",
       "      <td>0.0</td>\n",
       "      <td>Medium</td>\n",
       "      <td>2021</td>\n",
       "      <td>Average</td>\n",
       "      <td>2500.0</td>\n",
       "    </tr>\n",
       "    <tr>\n",
       "      <th>3</th>\n",
       "      <td>David</td>\n",
       "      <td>IT</td>\n",
       "      <td>70000</td>\n",
       "      <td>2018-07-01</td>\n",
       "      <td>7000.0</td>\n",
       "      <td>High</td>\n",
       "      <td>2018</td>\n",
       "      <td>Excellent</td>\n",
       "      <td>0.0</td>\n",
       "    </tr>\n",
       "    <tr>\n",
       "      <th>4</th>\n",
       "      <td>Eva</td>\n",
       "      <td>Finance</td>\n",
       "      <td>62000</td>\n",
       "      <td>2022-02-20</td>\n",
       "      <td>6200.0</td>\n",
       "      <td>High</td>\n",
       "      <td>2022</td>\n",
       "      <td>Good</td>\n",
       "      <td>1000.0</td>\n",
       "    </tr>\n",
       "  </tbody>\n",
       "</table>\n",
       "</div>"
      ],
      "text/plain": [
       "      Name Department  AnnualSalary JoiningDate   Bonus SalaryGrade  \\\n",
       "0    Alice         HR         50000  2020-01-10  5000.0      Medium   \n",
       "1      Bob    Finance         60000  2019-06-25  6000.0      Medium   \n",
       "2  Charlie         HR         55000  2021-03-15     0.0      Medium   \n",
       "3    David         IT         70000  2018-07-01  7000.0        High   \n",
       "4      Eva    Finance         62000  2022-02-20  6200.0        High   \n",
       "\n",
       "   JoiningYear PerformanceLevel  SalaryDiffFromDeptAvg  \n",
       "0         2020          Average                -2500.0  \n",
       "1         2019             Good                -1000.0  \n",
       "2         2021          Average                 2500.0  \n",
       "3         2018        Excellent                    0.0  \n",
       "4         2022             Good                 1000.0  "
      ]
     },
     "execution_count": 40,
     "metadata": {},
     "output_type": "execute_result"
    }
   ],
   "source": [
    "# Calculate mean salary for each department and subtract it from each employee's salary\n",
    "df[\"SalaryDiffFromDeptAvg\"] = df[\"AnnualSalary\"] - df.groupby(\"Department\")[\"AnnualSalary\"].transform(\"mean\")\n",
    "df"
   ]
  },
  {
   "cell_type": "markdown",
   "metadata": {},
   "source": [
    "### Complex Filtering with `query()`"
   ]
  },
  {
   "cell_type": "code",
   "execution_count": 41,
   "metadata": {},
   "outputs": [
    {
     "data": {
      "application/vnd.microsoft.datawrangler.viewer.v0+json": {
       "columns": [
        {
         "name": "index",
         "rawType": "int64",
         "type": "integer"
        },
        {
         "name": "Name",
         "rawType": "object",
         "type": "string"
        },
        {
         "name": "Department",
         "rawType": "object",
         "type": "string"
        },
        {
         "name": "AnnualSalary",
         "rawType": "int64",
         "type": "integer"
        },
        {
         "name": "JoiningDate",
         "rawType": "datetime64[ns]",
         "type": "datetime"
        },
        {
         "name": "Bonus",
         "rawType": "float64",
         "type": "float"
        },
        {
         "name": "SalaryGrade",
         "rawType": "object",
         "type": "string"
        },
        {
         "name": "JoiningYear",
         "rawType": "int32",
         "type": "integer"
        },
        {
         "name": "PerformanceLevel",
         "rawType": "object",
         "type": "string"
        },
        {
         "name": "SalaryDiffFromDeptAvg",
         "rawType": "float64",
         "type": "float"
        }
       ],
       "conversionMethod": "pd.DataFrame",
       "ref": "f8f194a3-bf2b-4a6a-b7f1-21ac8e04edd7",
       "rows": [
        [
         "1",
         "Bob",
         "Finance",
         "60000",
         "2019-06-25 00:00:00",
         "6000.0",
         "Medium",
         "2019",
         "Good",
         "-1000.0"
        ],
        [
         "4",
         "Eva",
         "Finance",
         "62000",
         "2022-02-20 00:00:00",
         "6200.0",
         "High",
         "2022",
         "Good",
         "1000.0"
        ]
       ],
       "shape": {
        "columns": 9,
        "rows": 2
       }
      },
      "text/html": [
       "<div>\n",
       "<style scoped>\n",
       "    .dataframe tbody tr th:only-of-type {\n",
       "        vertical-align: middle;\n",
       "    }\n",
       "\n",
       "    .dataframe tbody tr th {\n",
       "        vertical-align: top;\n",
       "    }\n",
       "\n",
       "    .dataframe thead th {\n",
       "        text-align: right;\n",
       "    }\n",
       "</style>\n",
       "<table border=\"1\" class=\"dataframe\">\n",
       "  <thead>\n",
       "    <tr style=\"text-align: right;\">\n",
       "      <th></th>\n",
       "      <th>Name</th>\n",
       "      <th>Department</th>\n",
       "      <th>AnnualSalary</th>\n",
       "      <th>JoiningDate</th>\n",
       "      <th>Bonus</th>\n",
       "      <th>SalaryGrade</th>\n",
       "      <th>JoiningYear</th>\n",
       "      <th>PerformanceLevel</th>\n",
       "      <th>SalaryDiffFromDeptAvg</th>\n",
       "    </tr>\n",
       "  </thead>\n",
       "  <tbody>\n",
       "    <tr>\n",
       "      <th>1</th>\n",
       "      <td>Bob</td>\n",
       "      <td>Finance</td>\n",
       "      <td>60000</td>\n",
       "      <td>2019-06-25</td>\n",
       "      <td>6000.0</td>\n",
       "      <td>Medium</td>\n",
       "      <td>2019</td>\n",
       "      <td>Good</td>\n",
       "      <td>-1000.0</td>\n",
       "    </tr>\n",
       "    <tr>\n",
       "      <th>4</th>\n",
       "      <td>Eva</td>\n",
       "      <td>Finance</td>\n",
       "      <td>62000</td>\n",
       "      <td>2022-02-20</td>\n",
       "      <td>6200.0</td>\n",
       "      <td>High</td>\n",
       "      <td>2022</td>\n",
       "      <td>Good</td>\n",
       "      <td>1000.0</td>\n",
       "    </tr>\n",
       "  </tbody>\n",
       "</table>\n",
       "</div>"
      ],
      "text/plain": [
       "  Name Department  AnnualSalary JoiningDate   Bonus SalaryGrade  JoiningYear  \\\n",
       "1  Bob    Finance         60000  2019-06-25  6000.0      Medium         2019   \n",
       "4  Eva    Finance         62000  2022-02-20  6200.0        High         2022   \n",
       "\n",
       "  PerformanceLevel  SalaryDiffFromDeptAvg  \n",
       "1             Good                -1000.0  \n",
       "4             Good                 1000.0  "
      ]
     },
     "execution_count": 41,
     "metadata": {},
     "output_type": "execute_result"
    }
   ],
   "source": [
    "# Use query string for complex condition\n",
    "df.query(\"AnnualSalary > 55000 and Department == 'Finance'\")"
   ]
  },
  {
   "cell_type": "code",
   "execution_count": 46,
   "id": "fba61d5b",
   "metadata": {},
   "outputs": [
    {
     "name": "stdout",
     "output_type": "stream",
     "text": [
      "Collecting seaborn\n",
      "  Using cached seaborn-0.13.2-py3-none-any.whl.metadata (5.4 kB)\n",
      "Requirement already satisfied: numpy!=1.24.0,>=1.20 in /Users/apple/work/basu_work/learning/python-batch1/.conda/lib/python3.11/site-packages (from seaborn) (2.2.4)\n",
      "Requirement already satisfied: pandas>=1.2 in /Users/apple/work/basu_work/learning/python-batch1/.conda/lib/python3.11/site-packages (from seaborn) (2.2.3)\n",
      "Requirement already satisfied: matplotlib!=3.6.1,>=3.4 in /Users/apple/work/basu_work/learning/python-batch1/.conda/lib/python3.11/site-packages (from seaborn) (3.10.3)\n",
      "Requirement already satisfied: contourpy>=1.0.1 in /Users/apple/work/basu_work/learning/python-batch1/.conda/lib/python3.11/site-packages (from matplotlib!=3.6.1,>=3.4->seaborn) (1.3.2)\n",
      "Requirement already satisfied: cycler>=0.10 in /Users/apple/work/basu_work/learning/python-batch1/.conda/lib/python3.11/site-packages (from matplotlib!=3.6.1,>=3.4->seaborn) (0.12.1)\n",
      "Requirement already satisfied: fonttools>=4.22.0 in /Users/apple/work/basu_work/learning/python-batch1/.conda/lib/python3.11/site-packages (from matplotlib!=3.6.1,>=3.4->seaborn) (4.57.0)\n",
      "Requirement already satisfied: kiwisolver>=1.3.1 in /Users/apple/work/basu_work/learning/python-batch1/.conda/lib/python3.11/site-packages (from matplotlib!=3.6.1,>=3.4->seaborn) (1.4.8)\n",
      "Requirement already satisfied: packaging>=20.0 in /Users/apple/work/basu_work/learning/python-batch1/.conda/lib/python3.11/site-packages (from matplotlib!=3.6.1,>=3.4->seaborn) (24.2)\n",
      "Requirement already satisfied: pillow>=8 in /Users/apple/work/basu_work/learning/python-batch1/.conda/lib/python3.11/site-packages (from matplotlib!=3.6.1,>=3.4->seaborn) (11.2.1)\n",
      "Requirement already satisfied: pyparsing>=2.3.1 in /Users/apple/work/basu_work/learning/python-batch1/.conda/lib/python3.11/site-packages (from matplotlib!=3.6.1,>=3.4->seaborn) (3.2.3)\n",
      "Requirement already satisfied: python-dateutil>=2.7 in /Users/apple/work/basu_work/learning/python-batch1/.conda/lib/python3.11/site-packages (from matplotlib!=3.6.1,>=3.4->seaborn) (2.9.0.post0)\n",
      "Requirement already satisfied: pytz>=2020.1 in /Users/apple/work/basu_work/learning/python-batch1/.conda/lib/python3.11/site-packages (from pandas>=1.2->seaborn) (2025.2)\n",
      "Requirement already satisfied: tzdata>=2022.7 in /Users/apple/work/basu_work/learning/python-batch1/.conda/lib/python3.11/site-packages (from pandas>=1.2->seaborn) (2025.2)\n",
      "Requirement already satisfied: six>=1.5 in /Users/apple/work/basu_work/learning/python-batch1/.conda/lib/python3.11/site-packages (from python-dateutil>=2.7->matplotlib!=3.6.1,>=3.4->seaborn) (1.17.0)\n",
      "Using cached seaborn-0.13.2-py3-none-any.whl (294 kB)\n",
      "Installing collected packages: seaborn\n",
      "Successfully installed seaborn-0.13.2\n"
     ]
    }
   ],
   "source": [
    "# !pip install matplotlib\n",
    "!pip install seaborn"
   ]
  },
  {
   "cell_type": "markdown",
   "metadata": {},
   "source": [
    "## Data Visualization with Matplotlib and Seaborn"
   ]
  },
  {
   "cell_type": "code",
   "execution_count": 47,
   "metadata": {},
   "outputs": [
    {
     "data": {
      "image/png": "[encoded data removed]",
      "text/plain": [
       "<Figure size 800x500 with 1 Axes>"
      ]
     },
     "metadata": {},
     "output_type": "display_data"
    }
   ],
   "source": [
    "import matplotlib.pyplot as plt\n",
    "import seaborn as sns\n",
    "\n",
    "# Set style\n",
    "sns.set(style=\"whitegrid\")\n",
    "\n",
    "# Bar plot: Average salary by department\n",
    "plt.figure(figsize=(8, 5))\n",
    "sns.barplot(x=\"Department\", y=\"AnnualSalary\", data=df, estimator=sum)\n",
    "plt.title(\"Total Annual Salary by Department\")\n",
    "plt.ylabel(\"Total Salary\")\n",
    "plt.show()"
   ]
  },
  {
   "cell_type": "code",
   "execution_count": 48,
   "metadata": {},
   "outputs": [
    {
     "data": {
      "image/png": "[encoded data removed]",
      "text/plain": [
       "<Figure size 800x500 with 1 Axes>"
      ]
     },
     "metadata": {},
     "output_type": "display_data"
    }
   ],
   "source": [
    "# Line plot: Rolling salary average\n",
    "plt.figure(figsize=(8, 5))\n",
    "sns.lineplot(data=df_sorted, x=\"JoiningDate\", y=\"RollingSalaryAvg\", marker=\"o\", label=\"Rolling Avg Salary\")\n",
    "sns.lineplot(data=df_sorted, x=\"JoiningDate\", y=\"AnnualSalary\", marker=\"x\", label=\"Actual Salary\")\n",
    "plt.title(\"Rolling Average Salary Over Time\")\n",
    "plt.xticks(rotation=45)\n",
    "plt.legend()\n",
    "plt.tight_layout()\n",
    "plt.show()"
   ]
  },
  {
   "cell_type": "markdown",
   "metadata": {},
   "source": [
    "## Real-World Data API Integration Example"
   ]
  },
  {
   "cell_type": "code",
   "execution_count": 50,
   "id": "a809e6f8",
   "metadata": {},
   "outputs": [
    {
     "name": "stdout",
     "output_type": "stream",
     "text": [
      "Collecting requests\n",
      "  Using cached requests-2.32.3-py3-none-any.whl.metadata (4.6 kB)\n",
      "Collecting charset-normalizer<4,>=2 (from requests)\n",
      "  Using cached charset_normalizer-3.4.2-cp311-cp311-macosx_10_9_universal2.whl.metadata (35 kB)\n",
      "Collecting idna<4,>=2.5 (from requests)\n",
      "  Using cached idna-3.10-py3-none-any.whl.metadata (10 kB)\n",
      "Collecting urllib3<3,>=1.21.1 (from requests)\n",
      "  Using cached urllib3-2.4.0-py3-none-any.whl.metadata (6.5 kB)\n",
      "Collecting certifi>=2017.4.17 (from requests)\n",
      "  Using cached certifi-2025.4.26-py3-none-any.whl.metadata (2.5 kB)\n",
      "Using cached requests-2.32.3-py3-none-any.whl (64 kB)\n",
      "Using cached certifi-2025.4.26-py3-none-any.whl (159 kB)\n",
      "Using cached charset_normalizer-3.4.2-cp311-cp311-macosx_10_9_universal2.whl (198 kB)\n",
      "Using cached idna-3.10-py3-none-any.whl (70 kB)\n",
      "Using cached urllib3-2.4.0-py3-none-any.whl (128 kB)\n",
      "Installing collected packages: urllib3, idna, charset-normalizer, certifi, requests\n",
      "Successfully installed certifi-2025.4.26 charset-normalizer-3.4.2 idna-3.10 requests-2.32.3 urllib3-2.4.0\n"
     ]
    }
   ],
   "source": [
    "!pip install requests"
   ]
  },
  {
   "cell_type": "code",
   "execution_count": 51,
   "metadata": {},
   "outputs": [
    {
     "ename": "ConnectionError",
     "evalue": "HTTPSConnectionPool(host='api.covid19api.com', port=443): Max retries exceeded with url: /dayone/country/india/status/confirmed (Caused by NameResolutionError(\"<urllib3.connection.HTTPSConnection object at 0x111eb43d0>: Failed to resolve 'api.covid19api.com' ([Errno 8] nodename nor servname provided, or not known)\"))",
     "output_type": "error",
     "traceback": [
      "\u001b[31m---------------------------------------------------------------------------\u001b[39m",
      "\u001b[31mgaierror\u001b[39m                                  Traceback (most recent call last)",
      "\u001b[36mFile \u001b[39m\u001b[32m~/work/basu_work/learning/python-batch1/.conda/lib/python3.11/site-packages/urllib3/connection.py:198\u001b[39m, in \u001b[36mHTTPConnection._new_conn\u001b[39m\u001b[34m(self)\u001b[39m\n\u001b[32m    197\u001b[39m \u001b[38;5;28;01mtry\u001b[39;00m:\n\u001b[32m--> \u001b[39m\u001b[32m198\u001b[39m     sock = \u001b[43mconnection\u001b[49m\u001b[43m.\u001b[49m\u001b[43mcreate_connection\u001b[49m\u001b[43m(\u001b[49m\n\u001b[32m    199\u001b[39m \u001b[43m        \u001b[49m\u001b[43m(\u001b[49m\u001b[38;5;28;43mself\u001b[39;49m\u001b[43m.\u001b[49m\u001b[43m_dns_host\u001b[49m\u001b[43m,\u001b[49m\u001b[43m \u001b[49m\u001b[38;5;28;43mself\u001b[39;49m\u001b[43m.\u001b[49m\u001b[43mport\u001b[49m\u001b[43m)\u001b[49m\u001b[43m,\u001b[49m\n\u001b[32m    200\u001b[39m \u001b[43m        \u001b[49m\u001b[38;5;28;43mself\u001b[39;49m\u001b[43m.\u001b[49m\u001b[43mtimeout\u001b[49m\u001b[43m,\u001b[49m\n\u001b[32m    201\u001b[39m \u001b[43m        \u001b[49m\u001b[43msource_address\u001b[49m\u001b[43m=\u001b[49m\u001b[38;5;28;43mself\u001b[39;49m\u001b[43m.\u001b[49m\u001b[43msource_address\u001b[49m\u001b[43m,\u001b[49m\n\u001b[32m    202\u001b[39m \u001b[43m        \u001b[49m\u001b[43msocket_options\u001b[49m\u001b[43m=\u001b[49m\u001b[38;5;28;43mself\u001b[39;49m\u001b[43m.\u001b[49m\u001b[43msocket_options\u001b[49m\u001b[43m,\u001b[49m\n\u001b[32m    203\u001b[39m \u001b[43m    \u001b[49m\u001b[43m)\u001b[49m\n\u001b[32m    204\u001b[39m \u001b[38;5;28;01mexcept\u001b[39;00m socket.gaierror \u001b[38;5;28;01mas\u001b[39;00m e:\n",
      "\u001b[36mFile \u001b[39m\u001b[32m~/work/basu_work/learning/python-batch1/.conda/lib/python3.11/site-packages/urllib3/util/connection.py:60\u001b[39m, in \u001b[36mcreate_connection\u001b[39m\u001b[34m(address, timeout, source_address, socket_options)\u001b[39m\n\u001b[32m     58\u001b[39m     \u001b[38;5;28;01mraise\u001b[39;00m LocationParseError(\u001b[33mf\u001b[39m\u001b[33m\"\u001b[39m\u001b[33m'\u001b[39m\u001b[38;5;132;01m{\u001b[39;00mhost\u001b[38;5;132;01m}\u001b[39;00m\u001b[33m'\u001b[39m\u001b[33m, label empty or too long\u001b[39m\u001b[33m\"\u001b[39m) \u001b[38;5;28;01mfrom\u001b[39;00m\u001b[38;5;250m \u001b[39m\u001b[38;5;28;01mNone\u001b[39;00m\n\u001b[32m---> \u001b[39m\u001b[32m60\u001b[39m \u001b[38;5;28;01mfor\u001b[39;00m res \u001b[38;5;129;01min\u001b[39;00m \u001b[43msocket\u001b[49m\u001b[43m.\u001b[49m\u001b[43mgetaddrinfo\u001b[49m\u001b[43m(\u001b[49m\u001b[43mhost\u001b[49m\u001b[43m,\u001b[49m\u001b[43m \u001b[49m\u001b[43mport\u001b[49m\u001b[43m,\u001b[49m\u001b[43m \u001b[49m\u001b[43mfamily\u001b[49m\u001b[43m,\u001b[49m\u001b[43m \u001b[49m\u001b[43msocket\u001b[49m\u001b[43m.\u001b[49m\u001b[43mSOCK_STREAM\u001b[49m\u001b[43m)\u001b[49m:\n\u001b[32m     61\u001b[39m     af, socktype, proto, canonname, sa = res\n",
      "\u001b[36mFile \u001b[39m\u001b[32m~/work/basu_work/learning/python-batch1/.conda/lib/python3.11/socket.py:974\u001b[39m, in \u001b[36mgetaddrinfo\u001b[39m\u001b[34m(host, port, family, type, proto, flags)\u001b[39m\n\u001b[32m    973\u001b[39m addrlist = []\n\u001b[32m--> \u001b[39m\u001b[32m974\u001b[39m \u001b[38;5;28;01mfor\u001b[39;00m res \u001b[38;5;129;01min\u001b[39;00m \u001b[43m_socket\u001b[49m\u001b[43m.\u001b[49m\u001b[43mgetaddrinfo\u001b[49m\u001b[43m(\u001b[49m\u001b[43mhost\u001b[49m\u001b[43m,\u001b[49m\u001b[43m \u001b[49m\u001b[43mport\u001b[49m\u001b[43m,\u001b[49m\u001b[43m \u001b[49m\u001b[43mfamily\u001b[49m\u001b[43m,\u001b[49m\u001b[43m \u001b[49m\u001b[38;5;28;43mtype\u001b[39;49m\u001b[43m,\u001b[49m\u001b[43m \u001b[49m\u001b[43mproto\u001b[49m\u001b[43m,\u001b[49m\u001b[43m \u001b[49m\u001b[43mflags\u001b[49m\u001b[43m)\u001b[49m:\n\u001b[32m    975\u001b[39m     af, socktype, proto, canonname, sa = res\n",
      "\u001b[31mgaierror\u001b[39m: [Errno 8] nodename nor servname provided, or not known",
      "\nThe above exception was the direct cause of the following exception:\n",
      "\u001b[31mNameResolutionError\u001b[39m                       Traceback (most recent call last)",
      "\u001b[36mFile \u001b[39m\u001b[32m~/work/basu_work/learning/python-batch1/.conda/lib/python3.11/site-packages/urllib3/connectionpool.py:787\u001b[39m, in \u001b[36mHTTPConnectionPool.urlopen\u001b[39m\u001b[34m(self, method, url, body, headers, retries, redirect, assert_same_host, timeout, pool_timeout, release_conn, chunked, body_pos, preload_content, decode_content, **response_kw)\u001b[39m\n\u001b[32m    786\u001b[39m \u001b[38;5;66;03m# Make the request on the HTTPConnection object\u001b[39;00m\n\u001b[32m--> \u001b[39m\u001b[32m787\u001b[39m response = \u001b[38;5;28;43mself\u001b[39;49m\u001b[43m.\u001b[49m\u001b[43m_make_request\u001b[49m\u001b[43m(\u001b[49m\n\u001b[32m    788\u001b[39m \u001b[43m    \u001b[49m\u001b[43mconn\u001b[49m\u001b[43m,\u001b[49m\n\u001b[32m    789\u001b[39m \u001b[43m    \u001b[49m\u001b[43mmethod\u001b[49m\u001b[43m,\u001b[49m\n\u001b[32m    790\u001b[39m \u001b[43m    \u001b[49m\u001b[43murl\u001b[49m\u001b[43m,\u001b[49m\n\u001b[32m    791\u001b[39m \u001b[43m    \u001b[49m\u001b[43mtimeout\u001b[49m\u001b[43m=\u001b[49m\u001b[43mtimeout_obj\u001b[49m\u001b[43m,\u001b[49m\n\u001b[32m    792\u001b[39m \u001b[43m    \u001b[49m\u001b[43mbody\u001b[49m\u001b[43m=\u001b[49m\u001b[43mbody\u001b[49m\u001b[43m,\u001b[49m\n\u001b[32m    793\u001b[39m \u001b[43m    \u001b[49m\u001b[43mheaders\u001b[49m\u001b[43m=\u001b[49m\u001b[43mheaders\u001b[49m\u001b[43m,\u001b[49m\n\u001b[32m    794\u001b[39m \u001b[43m    \u001b[49m\u001b[43mchunked\u001b[49m\u001b[43m=\u001b[49m\u001b[43mchunked\u001b[49m\u001b[43m,\u001b[49m\n\u001b[32m    795\u001b[39m \u001b[43m    \u001b[49m\u001b[43mretries\u001b[49m\u001b[43m=\u001b[49m\u001b[43mretries\u001b[49m\u001b[43m,\u001b[49m\n\u001b[32m    796\u001b[39m \u001b[43m    \u001b[49m\u001b[43mresponse_conn\u001b[49m\u001b[43m=\u001b[49m\u001b[43mresponse_conn\u001b[49m\u001b[43m,\u001b[49m\n\u001b[32m    797\u001b[39m \u001b[43m    \u001b[49m\u001b[43mpreload_content\u001b[49m\u001b[43m=\u001b[49m\u001b[43mpreload_content\u001b[49m\u001b[43m,\u001b[49m\n\u001b[32m    798\u001b[39m \u001b[43m    \u001b[49m\u001b[43mdecode_content\u001b[49m\u001b[43m=\u001b[49m\u001b[43mdecode_content\u001b[49m\u001b[43m,\u001b[49m\n\u001b[32m    799\u001b[39m \u001b[43m    \u001b[49m\u001b[43m*\u001b[49m\u001b[43m*\u001b[49m\u001b[43mresponse_kw\u001b[49m\u001b[43m,\u001b[49m\n\u001b[32m    800\u001b[39m \u001b[43m\u001b[49m\u001b[43m)\u001b[49m\n\u001b[32m    802\u001b[39m \u001b[38;5;66;03m# Everything went great!\u001b[39;00m\n",
      "\u001b[36mFile \u001b[39m\u001b[32m~/work/basu_work/learning/python-batch1/.conda/lib/python3.11/site-packages/urllib3/connectionpool.py:488\u001b[39m, in \u001b[36mHTTPConnectionPool._make_request\u001b[39m\u001b[34m(self, conn, method, url, body, headers, retries, timeout, chunked, response_conn, preload_content, decode_content, enforce_content_length)\u001b[39m\n\u001b[32m    487\u001b[39m         new_e = _wrap_proxy_error(new_e, conn.proxy.scheme)\n\u001b[32m--> \u001b[39m\u001b[32m488\u001b[39m     \u001b[38;5;28;01mraise\u001b[39;00m new_e\n\u001b[32m    490\u001b[39m \u001b[38;5;66;03m# conn.request() calls http.client.*.request, not the method in\u001b[39;00m\n\u001b[32m    491\u001b[39m \u001b[38;5;66;03m# urllib3.request. It also calls makefile (recv) on the socket.\u001b[39;00m\n",
      "\u001b[36mFile \u001b[39m\u001b[32m~/work/basu_work/learning/python-batch1/.conda/lib/python3.11/site-packages/urllib3/connectionpool.py:464\u001b[39m, in \u001b[36mHTTPConnectionPool._make_request\u001b[39m\u001b[34m(self, conn, method, url, body, headers, retries, timeout, chunked, response_conn, preload_content, decode_content, enforce_content_length)\u001b[39m\n\u001b[32m    463\u001b[39m \u001b[38;5;28;01mtry\u001b[39;00m:\n\u001b[32m--> \u001b[39m\u001b[32m464\u001b[39m     \u001b[38;5;28;43mself\u001b[39;49m\u001b[43m.\u001b[49m\u001b[43m_validate_conn\u001b[49m\u001b[43m(\u001b[49m\u001b[43mconn\u001b[49m\u001b[43m)\u001b[49m\n\u001b[32m    465\u001b[39m \u001b[38;5;28;01mexcept\u001b[39;00m (SocketTimeout, BaseSSLError) \u001b[38;5;28;01mas\u001b[39;00m e:\n",
      "\u001b[36mFile \u001b[39m\u001b[32m~/work/basu_work/learning/python-batch1/.conda/lib/python3.11/site-packages/urllib3/connectionpool.py:1093\u001b[39m, in \u001b[36mHTTPSConnectionPool._validate_conn\u001b[39m\u001b[34m(self, conn)\u001b[39m\n\u001b[32m   1092\u001b[39m \u001b[38;5;28;01mif\u001b[39;00m conn.is_closed:\n\u001b[32m-> \u001b[39m\u001b[32m1093\u001b[39m     \u001b[43mconn\u001b[49m\u001b[43m.\u001b[49m\u001b[43mconnect\u001b[49m\u001b[43m(\u001b[49m\u001b[43m)\u001b[49m\n\u001b[32m   1095\u001b[39m \u001b[38;5;66;03m# TODO revise this, see https://github.com/urllib3/urllib3/issues/2791\u001b[39;00m\n",
      "\u001b[36mFile \u001b[39m\u001b[32m~/work/basu_work/learning/python-batch1/.conda/lib/python3.11/site-packages/urllib3/connection.py:704\u001b[39m, in \u001b[36mHTTPSConnection.connect\u001b[39m\u001b[34m(self)\u001b[39m\n\u001b[32m    703\u001b[39m sock: socket.socket | ssl.SSLSocket\n\u001b[32m--> \u001b[39m\u001b[32m704\u001b[39m \u001b[38;5;28mself\u001b[39m.sock = sock = \u001b[38;5;28;43mself\u001b[39;49m\u001b[43m.\u001b[49m\u001b[43m_new_conn\u001b[49m\u001b[43m(\u001b[49m\u001b[43m)\u001b[49m\n\u001b[32m    705\u001b[39m server_hostname: \u001b[38;5;28mstr\u001b[39m = \u001b[38;5;28mself\u001b[39m.host\n",
      "\u001b[36mFile \u001b[39m\u001b[32m~/work/basu_work/learning/python-batch1/.conda/lib/python3.11/site-packages/urllib3/connection.py:205\u001b[39m, in \u001b[36mHTTPConnection._new_conn\u001b[39m\u001b[34m(self)\u001b[39m\n\u001b[32m    204\u001b[39m \u001b[38;5;28;01mexcept\u001b[39;00m socket.gaierror \u001b[38;5;28;01mas\u001b[39;00m e:\n\u001b[32m--> \u001b[39m\u001b[32m205\u001b[39m     \u001b[38;5;28;01mraise\u001b[39;00m NameResolutionError(\u001b[38;5;28mself\u001b[39m.host, \u001b[38;5;28mself\u001b[39m, e) \u001b[38;5;28;01mfrom\u001b[39;00m\u001b[38;5;250m \u001b[39m\u001b[34;01me\u001b[39;00m\n\u001b[32m    206\u001b[39m \u001b[38;5;28;01mexcept\u001b[39;00m SocketTimeout \u001b[38;5;28;01mas\u001b[39;00m e:\n",
      "\u001b[31mNameResolutionError\u001b[39m: <urllib3.connection.HTTPSConnection object at 0x111eb43d0>: Failed to resolve 'api.covid19api.com' ([Errno 8] nodename nor servname provided, or not known)",
      "\nThe above exception was the direct cause of the following exception:\n",
      "\u001b[31mMaxRetryError\u001b[39m                             Traceback (most recent call last)",
      "\u001b[36mFile \u001b[39m\u001b[32m~/work/basu_work/learning/python-batch1/.conda/lib/python3.11/site-packages/requests/adapters.py:667\u001b[39m, in \u001b[36mHTTPAdapter.send\u001b[39m\u001b[34m(self, request, stream, timeout, verify, cert, proxies)\u001b[39m\n\u001b[32m    666\u001b[39m \u001b[38;5;28;01mtry\u001b[39;00m:\n\u001b[32m--> \u001b[39m\u001b[32m667\u001b[39m     resp = \u001b[43mconn\u001b[49m\u001b[43m.\u001b[49m\u001b[43murlopen\u001b[49m\u001b[43m(\u001b[49m\n\u001b[32m    668\u001b[39m \u001b[43m        \u001b[49m\u001b[43mmethod\u001b[49m\u001b[43m=\u001b[49m\u001b[43mrequest\u001b[49m\u001b[43m.\u001b[49m\u001b[43mmethod\u001b[49m\u001b[43m,\u001b[49m\n\u001b[32m    669\u001b[39m \u001b[43m        \u001b[49m\u001b[43murl\u001b[49m\u001b[43m=\u001b[49m\u001b[43murl\u001b[49m\u001b[43m,\u001b[49m\n\u001b[32m    670\u001b[39m \u001b[43m        \u001b[49m\u001b[43mbody\u001b[49m\u001b[43m=\u001b[49m\u001b[43mrequest\u001b[49m\u001b[43m.\u001b[49m\u001b[43mbody\u001b[49m\u001b[43m,\u001b[49m\n\u001b[32m    671\u001b[39m \u001b[43m        \u001b[49m\u001b[43mheaders\u001b[49m\u001b[43m=\u001b[49m\u001b[43mrequest\u001b[49m\u001b[43m.\u001b[49m\u001b[43mheaders\u001b[49m\u001b[43m,\u001b[49m\n\u001b[32m    672\u001b[39m \u001b[43m        \u001b[49m\u001b[43mredirect\u001b[49m\u001b[43m=\u001b[49m\u001b[38;5;28;43;01mFalse\u001b[39;49;00m\u001b[43m,\u001b[49m\n\u001b[32m    673\u001b[39m \u001b[43m        \u001b[49m\u001b[43massert_same_host\u001b[49m\u001b[43m=\u001b[49m\u001b[38;5;28;43;01mFalse\u001b[39;49;00m\u001b[43m,\u001b[49m\n\u001b[32m    674\u001b[39m \u001b[43m        \u001b[49m\u001b[43mpreload_content\u001b[49m\u001b[43m=\u001b[49m\u001b[38;5;28;43;01mFalse\u001b[39;49;00m\u001b[43m,\u001b[49m\n\u001b[32m    675\u001b[39m \u001b[43m        \u001b[49m\u001b[43mdecode_content\u001b[49m\u001b[43m=\u001b[49m\u001b[38;5;28;43;01mFalse\u001b[39;49;00m\u001b[43m,\u001b[49m\n\u001b[32m    676\u001b[39m \u001b[43m        \u001b[49m\u001b[43mretries\u001b[49m\u001b[43m=\u001b[49m\u001b[38;5;28;43mself\u001b[39;49m\u001b[43m.\u001b[49m\u001b[43mmax_retries\u001b[49m\u001b[43m,\u001b[49m\n\u001b[32m    677\u001b[39m \u001b[43m        \u001b[49m\u001b[43mtimeout\u001b[49m\u001b[43m=\u001b[49m\u001b[43mtimeout\u001b[49m\u001b[43m,\u001b[49m\n\u001b[32m    678\u001b[39m \u001b[43m        \u001b[49m\u001b[43mchunked\u001b[49m\u001b[43m=\u001b[49m\u001b[43mchunked\u001b[49m\u001b[43m,\u001b[49m\n\u001b[32m    679\u001b[39m \u001b[43m    \u001b[49m\u001b[43m)\u001b[49m\n\u001b[32m    681\u001b[39m \u001b[38;5;28;01mexcept\u001b[39;00m (ProtocolError, \u001b[38;5;167;01mOSError\u001b[39;00m) \u001b[38;5;28;01mas\u001b[39;00m err:\n",
      "\u001b[36mFile \u001b[39m\u001b[32m~/work/basu_work/learning/python-batch1/.conda/lib/python3.11/site-packages/urllib3/connectionpool.py:841\u001b[39m, in \u001b[36mHTTPConnectionPool.urlopen\u001b[39m\u001b[34m(self, method, url, body, headers, retries, redirect, assert_same_host, timeout, pool_timeout, release_conn, chunked, body_pos, preload_content, decode_content, **response_kw)\u001b[39m\n\u001b[32m    839\u001b[39m     new_e = ProtocolError(\u001b[33m\"\u001b[39m\u001b[33mConnection aborted.\u001b[39m\u001b[33m\"\u001b[39m, new_e)\n\u001b[32m--> \u001b[39m\u001b[32m841\u001b[39m retries = \u001b[43mretries\u001b[49m\u001b[43m.\u001b[49m\u001b[43mincrement\u001b[49m\u001b[43m(\u001b[49m\n\u001b[32m    842\u001b[39m \u001b[43m    \u001b[49m\u001b[43mmethod\u001b[49m\u001b[43m,\u001b[49m\u001b[43m \u001b[49m\u001b[43murl\u001b[49m\u001b[43m,\u001b[49m\u001b[43m \u001b[49m\u001b[43merror\u001b[49m\u001b[43m=\u001b[49m\u001b[43mnew_e\u001b[49m\u001b[43m,\u001b[49m\u001b[43m \u001b[49m\u001b[43m_pool\u001b[49m\u001b[43m=\u001b[49m\u001b[38;5;28;43mself\u001b[39;49m\u001b[43m,\u001b[49m\u001b[43m \u001b[49m\u001b[43m_stacktrace\u001b[49m\u001b[43m=\u001b[49m\u001b[43msys\u001b[49m\u001b[43m.\u001b[49m\u001b[43mexc_info\u001b[49m\u001b[43m(\u001b[49m\u001b[43m)\u001b[49m\u001b[43m[\u001b[49m\u001b[32;43m2\u001b[39;49m\u001b[43m]\u001b[49m\n\u001b[32m    843\u001b[39m \u001b[43m\u001b[49m\u001b[43m)\u001b[49m\n\u001b[32m    844\u001b[39m retries.sleep()\n",
      "\u001b[36mFile \u001b[39m\u001b[32m~/work/basu_work/learning/python-batch1/.conda/lib/python3.11/site-packages/urllib3/util/retry.py:519\u001b[39m, in \u001b[36mRetry.increment\u001b[39m\u001b[34m(self, method, url, response, error, _pool, _stacktrace)\u001b[39m\n\u001b[32m    518\u001b[39m     reason = error \u001b[38;5;129;01mor\u001b[39;00m ResponseError(cause)\n\u001b[32m--> \u001b[39m\u001b[32m519\u001b[39m     \u001b[38;5;28;01mraise\u001b[39;00m MaxRetryError(_pool, url, reason) \u001b[38;5;28;01mfrom\u001b[39;00m\u001b[38;5;250m \u001b[39m\u001b[34;01mreason\u001b[39;00m  \u001b[38;5;66;03m# type: ignore[arg-type]\u001b[39;00m\n\u001b[32m    521\u001b[39m log.debug(\u001b[33m\"\u001b[39m\u001b[33mIncremented Retry for (url=\u001b[39m\u001b[33m'\u001b[39m\u001b[38;5;132;01m%s\u001b[39;00m\u001b[33m'\u001b[39m\u001b[33m): \u001b[39m\u001b[38;5;132;01m%r\u001b[39;00m\u001b[33m\"\u001b[39m, url, new_retry)\n",
      "\u001b[31mMaxRetryError\u001b[39m: HTTPSConnectionPool(host='api.covid19api.com', port=443): Max retries exceeded with url: /dayone/country/india/status/confirmed (Caused by NameResolutionError(\"<urllib3.connection.HTTPSConnection object at 0x111eb43d0>: Failed to resolve 'api.covid19api.com' ([Errno 8] nodename nor servname provided, or not known)\"))",
      "\nDuring handling of the above exception, another exception occurred:\n",
      "\u001b[31mConnectionError\u001b[39m                           Traceback (most recent call last)",
      "\u001b[36mCell\u001b[39m\u001b[36m \u001b[39m\u001b[32mIn[51]\u001b[39m\u001b[32m, line 6\u001b[39m\n\u001b[32m      3\u001b[39m \u001b[38;5;66;03m# Example API: COVID-19 data\u001b[39;00m\n\u001b[32m      4\u001b[39m url = \u001b[33m\"\u001b[39m\u001b[33mhttps://api.covid19api.com/dayone/country/india/status/confirmed\u001b[39m\u001b[33m\"\u001b[39m\n\u001b[32m----> \u001b[39m\u001b[32m6\u001b[39m response = \u001b[43mrequests\u001b[49m\u001b[43m.\u001b[49m\u001b[43mget\u001b[49m\u001b[43m(\u001b[49m\u001b[43murl\u001b[49m\u001b[43m)\u001b[49m\n\u001b[32m      7\u001b[39m data = response.json()\n\u001b[32m      9\u001b[39m \u001b[38;5;66;03m# Convert to DataFrame\u001b[39;00m\n",
      "\u001b[36mFile \u001b[39m\u001b[32m~/work/basu_work/learning/python-batch1/.conda/lib/python3.11/site-packages/requests/api.py:73\u001b[39m, in \u001b[36mget\u001b[39m\u001b[34m(url, params, **kwargs)\u001b[39m\n\u001b[32m     62\u001b[39m \u001b[38;5;28;01mdef\u001b[39;00m\u001b[38;5;250m \u001b[39m\u001b[34mget\u001b[39m(url, params=\u001b[38;5;28;01mNone\u001b[39;00m, **kwargs):\n\u001b[32m     63\u001b[39m \u001b[38;5;250m    \u001b[39m\u001b[33mr\u001b[39m\u001b[33;03m\"\"\"Sends a GET request.\u001b[39;00m\n\u001b[32m     64\u001b[39m \n\u001b[32m     65\u001b[39m \u001b[33;03m    :param url: URL for the new :class:`Request` object.\u001b[39;00m\n\u001b[32m   (...)\u001b[39m\u001b[32m     70\u001b[39m \u001b[33;03m    :rtype: requests.Response\u001b[39;00m\n\u001b[32m     71\u001b[39m \u001b[33;03m    \"\"\"\u001b[39;00m\n\u001b[32m---> \u001b[39m\u001b[32m73\u001b[39m     \u001b[38;5;28;01mreturn\u001b[39;00m \u001b[43mrequest\u001b[49m\u001b[43m(\u001b[49m\u001b[33;43m\"\u001b[39;49m\u001b[33;43mget\u001b[39;49m\u001b[33;43m\"\u001b[39;49m\u001b[43m,\u001b[49m\u001b[43m \u001b[49m\u001b[43murl\u001b[49m\u001b[43m,\u001b[49m\u001b[43m \u001b[49m\u001b[43mparams\u001b[49m\u001b[43m=\u001b[49m\u001b[43mparams\u001b[49m\u001b[43m,\u001b[49m\u001b[43m \u001b[49m\u001b[43m*\u001b[49m\u001b[43m*\u001b[49m\u001b[43mkwargs\u001b[49m\u001b[43m)\u001b[49m\n",
      "\u001b[36mFile \u001b[39m\u001b[32m~/work/basu_work/learning/python-batch1/.conda/lib/python3.11/site-packages/requests/api.py:59\u001b[39m, in \u001b[36mrequest\u001b[39m\u001b[34m(method, url, **kwargs)\u001b[39m\n\u001b[32m     55\u001b[39m \u001b[38;5;66;03m# By using the 'with' statement we are sure the session is closed, thus we\u001b[39;00m\n\u001b[32m     56\u001b[39m \u001b[38;5;66;03m# avoid leaving sockets open which can trigger a ResourceWarning in some\u001b[39;00m\n\u001b[32m     57\u001b[39m \u001b[38;5;66;03m# cases, and look like a memory leak in others.\u001b[39;00m\n\u001b[32m     58\u001b[39m \u001b[38;5;28;01mwith\u001b[39;00m sessions.Session() \u001b[38;5;28;01mas\u001b[39;00m session:\n\u001b[32m---> \u001b[39m\u001b[32m59\u001b[39m     \u001b[38;5;28;01mreturn\u001b[39;00m \u001b[43msession\u001b[49m\u001b[43m.\u001b[49m\u001b[43mrequest\u001b[49m\u001b[43m(\u001b[49m\u001b[43mmethod\u001b[49m\u001b[43m=\u001b[49m\u001b[43mmethod\u001b[49m\u001b[43m,\u001b[49m\u001b[43m \u001b[49m\u001b[43murl\u001b[49m\u001b[43m=\u001b[49m\u001b[43murl\u001b[49m\u001b[43m,\u001b[49m\u001b[43m \u001b[49m\u001b[43m*\u001b[49m\u001b[43m*\u001b[49m\u001b[43mkwargs\u001b[49m\u001b[43m)\u001b[49m\n",
      "\u001b[36mFile \u001b[39m\u001b[32m~/work/basu_work/learning/python-batch1/.conda/lib/python3.11/site-packages/requests/sessions.py:589\u001b[39m, in \u001b[36mSession.request\u001b[39m\u001b[34m(self, method, url, params, data, headers, cookies, files, auth, timeout, allow_redirects, proxies, hooks, stream, verify, cert, json)\u001b[39m\n\u001b[32m    584\u001b[39m send_kwargs = {\n\u001b[32m    585\u001b[39m     \u001b[33m\"\u001b[39m\u001b[33mtimeout\u001b[39m\u001b[33m\"\u001b[39m: timeout,\n\u001b[32m    586\u001b[39m     \u001b[33m\"\u001b[39m\u001b[33mallow_redirects\u001b[39m\u001b[33m\"\u001b[39m: allow_redirects,\n\u001b[32m    587\u001b[39m }\n\u001b[32m    588\u001b[39m send_kwargs.update(settings)\n\u001b[32m--> \u001b[39m\u001b[32m589\u001b[39m resp = \u001b[38;5;28;43mself\u001b[39;49m\u001b[43m.\u001b[49m\u001b[43msend\u001b[49m\u001b[43m(\u001b[49m\u001b[43mprep\u001b[49m\u001b[43m,\u001b[49m\u001b[43m \u001b[49m\u001b[43m*\u001b[49m\u001b[43m*\u001b[49m\u001b[43msend_kwargs\u001b[49m\u001b[43m)\u001b[49m\n\u001b[32m    591\u001b[39m \u001b[38;5;28;01mreturn\u001b[39;00m resp\n",
      "\u001b[36mFile \u001b[39m\u001b[32m~/work/basu_work/learning/python-batch1/.conda/lib/python3.11/site-packages/requests/sessions.py:703\u001b[39m, in \u001b[36mSession.send\u001b[39m\u001b[34m(self, request, **kwargs)\u001b[39m\n\u001b[32m    700\u001b[39m start = preferred_clock()\n\u001b[32m    702\u001b[39m \u001b[38;5;66;03m# Send the request\u001b[39;00m\n\u001b[32m--> \u001b[39m\u001b[32m703\u001b[39m r = \u001b[43madapter\u001b[49m\u001b[43m.\u001b[49m\u001b[43msend\u001b[49m\u001b[43m(\u001b[49m\u001b[43mrequest\u001b[49m\u001b[43m,\u001b[49m\u001b[43m \u001b[49m\u001b[43m*\u001b[49m\u001b[43m*\u001b[49m\u001b[43mkwargs\u001b[49m\u001b[43m)\u001b[49m\n\u001b[32m    705\u001b[39m \u001b[38;5;66;03m# Total elapsed time of the request (approximately)\u001b[39;00m\n\u001b[32m    706\u001b[39m elapsed = preferred_clock() - start\n",
      "\u001b[36mFile \u001b[39m\u001b[32m~/work/basu_work/learning/python-batch1/.conda/lib/python3.11/site-packages/requests/adapters.py:700\u001b[39m, in \u001b[36mHTTPAdapter.send\u001b[39m\u001b[34m(self, request, stream, timeout, verify, cert, proxies)\u001b[39m\n\u001b[32m    696\u001b[39m     \u001b[38;5;28;01mif\u001b[39;00m \u001b[38;5;28misinstance\u001b[39m(e.reason, _SSLError):\n\u001b[32m    697\u001b[39m         \u001b[38;5;66;03m# This branch is for urllib3 v1.22 and later.\u001b[39;00m\n\u001b[32m    698\u001b[39m         \u001b[38;5;28;01mraise\u001b[39;00m SSLError(e, request=request)\n\u001b[32m--> \u001b[39m\u001b[32m700\u001b[39m     \u001b[38;5;28;01mraise\u001b[39;00m \u001b[38;5;167;01mConnectionError\u001b[39;00m(e, request=request)\n\u001b[32m    702\u001b[39m \u001b[38;5;28;01mexcept\u001b[39;00m ClosedPoolError \u001b[38;5;28;01mas\u001b[39;00m e:\n\u001b[32m    703\u001b[39m     \u001b[38;5;28;01mraise\u001b[39;00m \u001b[38;5;167;01mConnectionError\u001b[39;00m(e, request=request)\n",
      "\u001b[31mConnectionError\u001b[39m: HTTPSConnectionPool(host='api.covid19api.com', port=443): Max retries exceeded with url: /dayone/country/india/status/confirmed (Caused by NameResolutionError(\"<urllib3.connection.HTTPSConnection object at 0x111eb43d0>: Failed to resolve 'api.covid19api.com' ([Errno 8] nodename nor servname provided, or not known)\"))"
     ]
    }
   ],
   "source": [
    "import requests\n",
    "\n",
    "# Example API: COVID-19 data\n",
    "url = \"https://api.covid19api.com/dayone/country/india/status/confirmed\"\n",
    "\n",
    "response = requests.get(url)\n",
    "data = response.json()\n",
    "\n",
    "# Convert to DataFrame\n",
    "covid_df = pd.DataFrame(data)[[\"Date\", \"Cases\"]]\n",
    "covid_df[\"Date\"] = pd.to_datetime(covid_df[\"Date\"])\n",
    "covid_df.set_index(\"Date\", inplace=True)\n",
    "covid_df = covid_df.resample(\"W\").sum()\n",
    "\n",
    "covid_df.head()"
   ]
  },
  {
   "cell_type": "code",
   "execution_count": null,
   "metadata": {},
   "outputs": [],
   "source": [
    "# Plot COVID-19 confirmed cases in India over time\n",
    "plt.figure(figsize=(10, 5))\n",
    "covid_df[\"Cases\"].plot()\n",
    "plt.title(\"Weekly COVID-19 Confirmed Cases in India\")\n",
    "plt.ylabel(\"Cases\")\n",
    "plt.xlabel(\"Date\")\n",
    "plt.grid(True)\n",
    "plt.tight_layout()\n",
    "plt.show()"
   ]
  }
 ],
 "metadata": {
  "kernelspec": {
   "display_name": "Python 3",
   "language": "python",
   "name": "python3"
  },
  "language_info": {
   "codemirror_mode": {
    "name": "ipython",
    "version": 3
   },
   "file_extension": ".py",
   "mimetype": "text/x-python",
   "name": "python",
   "nbconvert_exporter": "python",
   "pygments_lexer": "ipython3",
   "version": "3.11.11"
  }
 },
 "nbformat": 4,
 "nbformat_minor": 5
}
