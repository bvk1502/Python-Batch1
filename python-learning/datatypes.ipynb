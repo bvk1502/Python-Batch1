{
 "cells": [
  {
   "cell_type": "markdown",
   "metadata": {},
   "source": [
    "## 1. Numeric Types: int, float, complex"
   ]
  },
  {
   "cell_type": "code",
   "execution_count": 4,
   "metadata": {},
   "outputs": [
    {
     "name": "stdout",
     "output_type": "stream",
     "text": [
      "2\n"
     ]
    }
   ],
   "source": [
    "int_variable = 1\n",
    "float_variable = 1.2\n",
    "string_variable = \"any string information\"\n",
    "\n",
    "addition_of_int_float = int_variable + int(float_variable) #do's\n",
    "print(addition_of_int_float)\n",
    "\n",
    "# value = int_variable + string_variable #don't"
   ]
  },
  {
   "cell_type": "code",
   "execution_count": 5,
   "metadata": {},
   "outputs": [
    {
     "name": "stdout",
     "output_type": "stream",
     "text": [
      "8.8\n"
     ]
    }
   ],
   "source": [
    "#will work on Decimal\n",
    "from decimal import Decimal\n",
    "value = Decimal('8.8')\n",
    "print(value)\n"
   ]
  },
  {
   "cell_type": "code",
   "execution_count": 14,
   "metadata": {},
   "outputs": [
    {
     "name": "stdout",
     "output_type": "stream",
     "text": [
      "a is 10, string_value is String value with single quote\n",
      "(True, '')\n",
      "(False, \"10.2 is not integer, existing type is <class 'float'>\")\n",
      "(False, \"{} is not integer, existing type is <class 'dict'>\")\n",
      "(False, \"Hi is not integer, existing type is <class 'str'>\")\n",
      "HelloBasu\n",
      "HiHowAreYou\n"
     ]
    }
   ],
   "source": [
    "# understand String Data Types\n",
    "string_value = 'String value with single quote'\n",
    "string_value2 = \"String value with double quote\"\n",
    "a = 10\n",
    "c = f'a is {a}, string_value is {string_value}'\n",
    "print(c)\n",
    "\n",
    "def validate_int(value):\n",
    "    msg = f'{value} is not integer, existing type is {type(value)}'\n",
    "    if type(value) is int:\n",
    "        return True, ''\n",
    "    else:\n",
    "        return False, msg\n",
    "    \n",
    "print(validate_int(10))\n",
    "print(validate_int(10.2))\n",
    "print(validate_int({}))\n",
    "print(validate_int('Hi'))\n",
    "\n",
    "\n",
    "#concatination\n",
    "str1 = \"Hello\"\n",
    "str2 = \"Basu\"\n",
    "str3 = str1 + str2\n",
    "print(str3)\n",
    "\n",
    "#don't \n",
    "list = ['Hi', 'How', 'Are', 'You']\n",
    "concatinated_value = ''\n",
    "for value in list:\n",
    "    concatinated_value += value\n",
    "print(concatinated_value)\n"
   ]
  },
  {
   "cell_type": "code",
   "execution_count": null,
   "metadata": {},
   "outputs": [
    {
     "name": "stdout",
     "output_type": "stream",
     "text": [
      "yes active\n",
      "yes active\n",
      "yes active\n"
     ]
    }
   ],
   "source": [
    "# boolean\n",
    "is_active = True #true, 1\n",
    "is_inactive = False #false, 0\n",
    "\n",
    "if is_active:\n",
    "   print(\"yes active\")\n",
    "   \n",
    "if not is_inactive:\n",
    "    print(\"yes active\")\n",
    "    \n",
    "#don't    \n",
    "if is_active == True:\n",
    "    print(\"yes active\")"
   ]
  },
  {
   "cell_type": "code",
   "execution_count": null,
   "metadata": {},
   "outputs": [
    {
     "name": "stdout",
     "output_type": "stream",
     "text": [
      "[1, 2, 3, 4, 5]\n",
      "1\n",
      "5\n",
      "-----\n",
      "[1, 2, 3, 4, 10, 5, 6]\n",
      "[1, 2, 3, 4, 10, 5]\n",
      "[1, 2, 4, 10, 5]\n",
      "[1, 2, 10, 5]\n",
      "[1, 2, 5, 10]\n",
      "[10, 5, 2, 1]\n"
     ]
    }
   ],
   "source": [
    "#List Concepts\n",
    "# Concept of List is something like Array, Mutable, \n",
    "# Values of same datatypes (python2), \n",
    "\n",
    "\n",
    "list1 = [1,2,3,4,5]\n",
    "print(list1)\n",
    "print(list1[0])\n",
    "print(len(list1))\n",
    "print(\"-----\")\n",
    "list1.append(6) #append -> appends the value at last index\n",
    "# for value in list1:\n",
    "#     print(value)\n",
    "list1.insert(4, 10) #insert -> insert the value at specific index(which is available)\n",
    "print(list1)\n",
    "list1.pop() #pop without parameter -> last index value will be removed from the list\n",
    "print(list1)\n",
    "list1.pop(2) #pop with parameter -> sepeified index value will be removed from the list\n",
    "print(list1)\n",
    "list1.remove(4) #remote -> value will be removed from the list\n",
    "print(list1)\n",
    "list1.sort()\n",
    "print(list1)\n",
    "list1.sort(reverse=True)\n",
    "print(list1)\n"
   ]
  },
  {
   "cell_type": "code",
   "execution_count": null,
   "metadata": {},
   "outputs": [],
   "source": [
    "# with different data types (python3)\n",
    "mixed = [1, \"apple\", 3.14, True]\n",
    "mixed_list2 = [\n",
    "    {\"id\":1, \"value\":\"value1\"},\n",
    "    {\"id\":2, \"value\":\"value1\"}\n",
    "]"
   ]
  },
  {
   "cell_type": "code",
   "execution_count": null,
   "metadata": {},
   "outputs": [
    {
     "name": "stdout",
     "output_type": "stream",
     "text": [
      "1\n",
      "apple\n",
      "True 3.14\n"
     ]
    }
   ],
   "source": [
    "#Postive Indexing, Negative Indexing\n",
    "mixed = [1, \"apple\", 3.14, True]\n",
    "# Positive Indexing\n",
    "print(mixed[0])\n",
    "print(mixed[1])\n",
    "\n",
    "print(mixed[-1], mixed[-2])\n",
    "\n",
    "# PI  0   1   2   3   4\n",
    "# NI -5  -4  -3  -2  -1"
   ]
  },
  {
   "cell_type": "code",
   "execution_count": 42,
   "metadata": {},
   "outputs": [
    {
     "name": "stdout",
     "output_type": "stream",
     "text": [
      "[6, 7, 8, 9, 10, 1, 2, 3, 4, 5, 'Apple', 'Orange']\n"
     ]
    }
   ],
   "source": [
    "#List Extending\n",
    "list1 = [1,2,3,4,5]\n",
    "list2 = [6,7,8,9,10]\n",
    "list3 = list1 + list2\n",
    "list2.extend(list1)\n",
    "list2.extend([\"Apple\", \"Orange\"])\n",
    "print(list2)"
   ]
  },
  {
   "cell_type": "code",
   "execution_count": null,
   "metadata": {},
   "outputs": [
    {
     "name": "stdout",
     "output_type": "stream",
     "text": [
      "0 Apple\n",
      "1 Orange\n",
      "2 100\n",
      "3 50\n",
      "4 Banana\n",
      "Apple\n",
      "Orange\n",
      "110\n",
      "60\n",
      "Banana\n"
     ]
    }
   ],
   "source": [
    "#Advance Usecases in the List\n",
    "list1 = [\"Apple\", \"Orange\", 100, 50, \"Banana\"]\n",
    "#Wanted to see index and value for each index (enumerate)\n",
    "for index,value in enumerate(list1):\n",
    "    print(index, value)\n",
    "    if type(value) is int:\n",
    "        list1[index] = value + 10\n",
    "    \n",
    "for value in list1:\n",
    "    print(value)\n",
    "    \n",
    "    \n",
    "    "
   ]
  },
  {
   "cell_type": "code",
   "execution_count": 52,
   "metadata": {},
   "outputs": [
    {
     "name": "stdout",
     "output_type": "stream",
     "text": [
      "Apple's price per kg is 210 Rupees, can be bought in Kashmir\n",
      "Orange's price per kg is 130 Rupees, can be bought in Kerala\n"
     ]
    }
   ],
   "source": [
    "# ZIP key word usage in LIst\n",
    "fruits = [\"Apple\", \"Orange\"]\n",
    "prices = [210, 130]\n",
    "locations = [\"Kashmir\", \"Kerala\"]\n",
    "for fruit, price, location in zip(fruits, prices, locations):\n",
    "    print(f\"{fruit}'s price per kg is {price} Rupees, can be bought in {location}\")"
   ]
  },
  {
   "cell_type": "markdown",
   "metadata": {},
   "source": [
    "## - Tuples\n",
    "\n",
    "Immutable, Any data types , values will be inside () - parenthesis"
   ]
  },
  {
   "cell_type": "code",
   "execution_count": null,
   "metadata": {},
   "outputs": [
    {
     "name": "stdout",
     "output_type": "stream",
     "text": [
      "(10, 'Apple', 96.2, [5, 10, 20], {})\n",
      "10\n"
     ]
    },
    {
     "ename": "TypeError",
     "evalue": "'tuple' object does not support item assignment",
     "output_type": "error",
     "traceback": [
      "\u001b[31m---------------------------------------------------------------------------\u001b[39m",
      "\u001b[31mTypeError\u001b[39m                                 Traceback (most recent call last)",
      "\u001b[36mCell\u001b[39m\u001b[36m \u001b[39m\u001b[32mIn[57]\u001b[39m\u001b[32m, line 7\u001b[39m\n\u001b[32m      5\u001b[39m \u001b[38;5;66;03m#how to access tuple data\u001b[39;00m\n\u001b[32m      6\u001b[39m \u001b[38;5;28mprint\u001b[39m(tuple1[\u001b[32m0\u001b[39m])\n\u001b[32m----> \u001b[39m\u001b[32m7\u001b[39m \u001b[43mtuple1\u001b[49m\u001b[43m[\u001b[49m\u001b[32;43m0\u001b[39;49m\u001b[43m]\u001b[49m = \u001b[33m\"\u001b[39m\u001b[33msome value\u001b[39m\u001b[33m\"\u001b[39m\n",
      "\u001b[31mTypeError\u001b[39m: 'tuple' object does not support item assignment"
     ]
    }
   ],
   "source": [
    "#Immutable, Any data types , values will be inside () - parenthesis\n",
    "tuple1 = ( 10, 'Apple', 96.2, [5,10,20], {})\n",
    "print(tuple1)\n",
    "\n",
    "#how to access tuple data\n",
    "print(tuple1[0])\n",
    "tuple1[0] = \"some value\" #will lead to error due to immutable property\n"
   ]
  },
  {
   "cell_type": "markdown",
   "metadata": {},
   "source": [
    "## Dictionary\n",
    "- any data within {} flower brackets\n",
    "- Stores the values in key-value pairs\n",
    "- Mutable"
   ]
  },
  {
   "cell_type": "code",
   "execution_count": 81,
   "metadata": {},
   "outputs": [
    {
     "name": "stdout",
     "output_type": "stream",
     "text": [
      "None\n",
      "[{'location': 'Bangalore, India'}, {'location': 'Delhi, India'}]\n",
      "0 Bangalore, India\n",
      "1 Delhi, India\n"
     ]
    }
   ],
   "source": [
    "vehicle = {\n",
    "    'name' : 'Nexon',\n",
    "    'brand': 'TATA',\n",
    "    'cost': 1000000,\n",
    "    'colors' : ['red', 'blue', 'white'],\n",
    "    'location' : [\n",
    "        {\n",
    "            'location' : \"Bangalore, India\"\n",
    "        },\n",
    "        {\n",
    "            'location' : \"Delhi, India\"\n",
    "        }\n",
    "    ]\n",
    "}\n",
    "# print(vehicle, vehicle[\"name\"])\n",
    "# print(\"cost\", vehicle['cost'])\n",
    "# print(vehicle['location'][0]['location'])\n",
    "print(vehicle.get('name1', None))\n",
    "# print(vehicle['name1']) #KeyError\n",
    "# print(vehicle.get('location',[]))\n",
    "locations = vehicle.get('location',[])\n",
    "# if len(locations)>0:\n",
    "#     print(locations[0].get('location', 'Not exist'))\n",
    "# for location in locations:\n",
    "#     print(location.get('location', None))\n",
    "print(locations)\n",
    "for index,location in enumerate(locations):\n",
    "    # print(index, location)\n",
    "    print(index, location.get('location', None))\n"
   ]
  },
  {
   "cell_type": "markdown",
   "metadata": {},
   "source": [
    "## JSON\n",
    "- json to dictionary\n",
    "- How to read dictionary(covered in previous)\n",
    "- dictionary to json"
   ]
  },
  {
   "cell_type": "code",
   "execution_count": 88,
   "metadata": {},
   "outputs": [
    {
     "name": "stdout",
     "output_type": "stream",
     "text": [
      "<class 'dict'>\n",
      "exampleglossary\n",
      "S\n",
      "{\"glossary\": {\"title\": \"exampleglossary\", \"GlossDiv\": {\"title\": \"S\", \"GlossList\": {\"GlossEntry\": {\"ID\": \"SGML\", \"SortAs\": \"SGML\", \"GlossTerm\": \"StandardGeneralizedMarkupLanguage\", \"Acronym\": \"SGML\", \"Abbrev\": \"ISO8879:1986\", \"GlossDef\": {\"para\": \"Ameta-markuplanguage,usedtocreatemarkuplanguagessuchasDocBook.\", \"GlossSeeAlso\": [\"GML\", \"XML\"]}, \"GlossSee\": \"markup\"}}}}}\n"
     ]
    }
   ],
   "source": [
    "import json #import the json\n",
    "json_data = \"{\\\"glossary\\\":{\\\"title\\\":\\\"exampleglossary\\\",\\\"GlossDiv\\\":{\\\"title\\\":\\\"S\\\",\\\"GlossList\\\":{\\\"GlossEntry\\\":{\\\"ID\\\":\\\"SGML\\\",\\\"SortAs\\\":\\\"SGML\\\",\\\"GlossTerm\\\":\\\"StandardGeneralizedMarkupLanguage\\\",\\\"Acronym\\\":\\\"SGML\\\",\\\"Abbrev\\\":\\\"ISO8879:1986\\\",\\\"GlossDef\\\":{\\\"para\\\":\\\"Ameta-markuplanguage,usedtocreatemarkuplanguagessuchasDocBook.\\\",\\\"GlossSeeAlso\\\":[\\\"GML\\\",\\\"XML\\\"]},\\\"GlossSee\\\":\\\"markup\\\"}}}}}\"\n",
    "# json.loads(json_data) - used for converting json string to dictionary\n",
    "json_dict = json.loads(json_data)\n",
    "print(type(json_dict))\n",
    "print(json_dict.get('glossary', {}).get('title', 'No title'))\n",
    "print(json_dict.get('glossary', {}).get('GlossDiv', {}).get('title', 'No title'))\n",
    "\n",
    "# json.dumps - used to converting from dictionary to json string\n",
    "json_str = json.dumps(json_dict)\n",
    "print(json_str)"
   ]
  },
  {
   "cell_type": "markdown",
   "metadata": {},
   "source": [
    "## Deep Copying and Shallow Copying of Dictionary\n",
    "Shallow Copy - it will copy high level objects from the dictionary\n",
    "Deep Copy - it will copy entire dictionary (includes all nested objects from the dictionary)\n"
   ]
  },
  {
   "cell_type": "code",
   "execution_count": 98,
   "metadata": {},
   "outputs": [
    {
     "name": "stdout",
     "output_type": "stream",
     "text": [
      "shallow_copy {'id': 1, 'name': 'Basu', 'percentage': [50, 60]}\n",
      "shallow_copy {'id': 1, 'name': 'Srujan', 'percentage': [50, 60, 100]}\n",
      "original_dict {'id': 1, 'name': 'Basu', 'percentage': [50, 60, 100]}\n"
     ]
    }
   ],
   "source": [
    "#shallow Copy (nested values will not be copied, it will be referenced)\n",
    "import copy\n",
    "original_dict = {\n",
    "    'id':1, #direct value (integer)\n",
    "    'name': 'Basu', #direct value (string)\n",
    "    'percentage' : [50, 60] #nested value (list/tuple/dictionary)\n",
    "}\n",
    "shallow_copy_dict = original_dict.copy()\n",
    "print(\"shallow_copy\", shallow_copy_dict)\n",
    "shallow_copy_dict.get('percentage',[]).append(100)\n",
    "shallow_copy_dict['name'] = 'Srujan'\n",
    "print(\"shallow_copy\", shallow_copy_dict)\n",
    "print(\"original_dict\", original_dict)"
   ]
  },
  {
   "cell_type": "code",
   "execution_count": 99,
   "metadata": {},
   "outputs": [
    {
     "name": "stdout",
     "output_type": "stream",
     "text": [
      "deep_copy {'id': 1, 'name': 'Basu', 'percentage': [50, 60]}\n",
      "deep_copy {'id': 1, 'name': 'Srujan', 'percentage': [50, 60, 100]}\n",
      "original_dict {'id': 1, 'name': 'Basu', 'percentage': [50, 60]}\n"
     ]
    }
   ],
   "source": [
    "# Deep Copy\n",
    "import copy\n",
    "original_dict = {\n",
    "    'id':1, #direct value (integer)\n",
    "    'name': 'Basu', #direct value (string)\n",
    "    'percentage' : [50, 60] #nested value (list/tuple/dictionary)\n",
    "}\n",
    "\n",
    "deep_copy = copy.deepcopy(original_dict)\n",
    "print(\"deep_copy\", deep_copy)\n",
    "deep_copy.get('percentage',[]).append(100)\n",
    "deep_copy['name'] = 'Srujan'\n",
    "print(\"deep_copy\", deep_copy)\n",
    "print(\"original_dict\", original_dict)"
   ]
  },
  {
   "cell_type": "markdown",
   "metadata": {},
   "source": [
    "## Set\n",
    "Un ordered, mutable, only will have unique values, uses {}"
   ]
  },
  {
   "cell_type": "code",
   "execution_count": null,
   "metadata": {},
   "outputs": [
    {
     "name": "stdout",
     "output_type": "stream",
     "text": [
      "{40, 10, 20, 50}\n",
      "{40, 10, 50, 20, 60}\n",
      "{40, 50, 20, 60}\n",
      "{1, 2, 3, 4, 5, 6}\n",
      "{1, 2}\n",
      "{3, 4}\n"
     ]
    },
    {
     "ename": "TypeError",
     "evalue": "'list' object is not callable",
     "output_type": "error",
     "traceback": [
      "\u001b[31m---------------------------------------------------------------------------\u001b[39m",
      "\u001b[31mTypeError\u001b[39m                                 Traceback (most recent call last)",
      "\u001b[36mCell\u001b[39m\u001b[36m \u001b[39m\u001b[32mIn[109]\u001b[39m\u001b[32m, line 16\u001b[39m\n\u001b[32m     14\u001b[39m \u001b[38;5;28mprint\u001b[39m(a.intersection(b))\n\u001b[32m     15\u001b[39m c = (a.intersection(b))\n\u001b[32m---> \u001b[39m\u001b[32m16\u001b[39m list1 = \u001b[38;5;28;43mlist\u001b[39;49m\u001b[43m(\u001b[49m\u001b[43mc\u001b[49m\u001b[43m)\u001b[49m\n",
      "\u001b[31mTypeError\u001b[39m: 'list' object is not callable"
     ]
    }
   ],
   "source": [
    "from typing import List\n",
    "set1 = {1,2,3,4}\n",
    "list1 = [10,20,10,40,50,40]\n",
    "set2 = set(list1)\n",
    "print(set2)\n",
    "set2.add(60)\n",
    "print(set2)\n",
    "set2.remove(10)\n",
    "print(set2)\n",
    "a = {1, 2, 3, 4}\n",
    "b = {3, 4, 5, 6}\n",
    "# set operations (union/ intersection / difference / symmetric diff)\n",
    "print(a.union(b))\n",
    "print(a.difference(b))\n",
    "print(a.intersection(b))\n",
    "c = (a.intersection(b))\n",
    "# list1 = list(c)"
   ]
  }
 ],
 "metadata": {
  "kernelspec": {
   "display_name": "Python 3",
   "language": "python",
   "name": "python3"
  },
  "language_info": {
   "codemirror_mode": {
    "name": "ipython",
    "version": 3
   },
   "file_extension": ".py",
   "mimetype": "text/x-python",
   "name": "python",
   "nbconvert_exporter": "python",
   "pygments_lexer": "ipython3",
   "version": "3.11.11"
  }
 },
 "nbformat": 4,
 "nbformat_minor": 2
}
